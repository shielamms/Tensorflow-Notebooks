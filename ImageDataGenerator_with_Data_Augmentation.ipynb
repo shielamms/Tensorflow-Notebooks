{
  "nbformat": 4,
  "nbformat_minor": 0,
  "metadata": {
    "colab": {
      "provenance": [],
      "authorship_tag": "ABX9TyNb/Xz42csrzUsMsrA4pKze",
      "include_colab_link": true
    },
    "kernelspec": {
      "name": "python3",
      "display_name": "Python 3"
    },
    "language_info": {
      "name": "python"
    },
    "accelerator": "GPU",
    "gpuClass": "standard"
  },
  "cells": [
    {
      "cell_type": "markdown",
      "metadata": {
        "id": "view-in-github",
        "colab_type": "text"
      },
      "source": [
        "<a href=\"https://colab.research.google.com/github/shielamms/Tensorflow-Notebooks/blob/main/ImageDataGenerator_with_Data_Augmentation.ipynb\" target=\"_parent\"><img src=\"https://colab.research.google.com/assets/colab-badge.svg\" alt=\"Open In Colab\"/></a>"
      ]
    },
    {
      "cell_type": "code",
      "execution_count": 1,
      "metadata": {
        "id": "dAem3RY8O5Sk"
      },
      "outputs": [],
      "source": [
        "import matplotlib.pyplot as plt\n",
        "import os\n",
        "import random\n",
        "import shutil\n",
        "import tensorflow as tf\n",
        "import zipfile\n",
        "from tensorflow.keras.preprocessing.image import ImageDataGenerator\n",
        "from shutil import copyfile"
      ]
    },
    {
      "cell_type": "code",
      "source": [
        "!wget --no-check-certificate \\\n",
        "    \"https://download.microsoft.com/download/3/E/1/3E1C3F21-ECDB-4869-8368-6DEBA77B919F/kagglecatsanddogs_5340.zip\" \\\n",
        "    -O \"/tmp/cats-and-dogs.zip\"\n",
        "\n",
        "local_zip = '/tmp/cats-and-dogs.zip'\n",
        "zip_ref = zipfile.ZipFile(local_zip, 'r')\n",
        "zip_ref.extractall('/tmp')\n",
        "zip_ref.close()"
      ],
      "metadata": {
        "colab": {
          "base_uri": "https://localhost:8080/"
        },
        "id": "WPyEqBWqQpCn",
        "outputId": "49d6fa30-a2dd-493c-ee29-1f8dcc9717cd"
      },
      "execution_count": 2,
      "outputs": [
        {
          "output_type": "stream",
          "name": "stdout",
          "text": [
            "--2023-03-17 16:16:57--  https://download.microsoft.com/download/3/E/1/3E1C3F21-ECDB-4869-8368-6DEBA77B919F/kagglecatsanddogs_5340.zip\n",
            "Resolving download.microsoft.com (download.microsoft.com)... 23.36.252.210, 2600:1413:1:597::317f, 2600:1413:1:5a0::317f\n",
            "Connecting to download.microsoft.com (download.microsoft.com)|23.36.252.210|:443... connected.\n",
            "HTTP request sent, awaiting response... 200 OK\n",
            "Length: 824887076 (787M) [application/octet-stream]\n",
            "Saving to: ‘/tmp/cats-and-dogs.zip’\n",
            "\n",
            "/tmp/cats-and-dogs. 100%[===================>] 786.67M   126MB/s    in 5.7s    \n",
            "\n",
            "2023-03-17 16:17:02 (139 MB/s) - ‘/tmp/cats-and-dogs.zip’ saved [824887076/824887076]\n",
            "\n"
          ]
        }
      ]
    },
    {
      "cell_type": "code",
      "source": [
        "!ls /tmp"
      ],
      "metadata": {
        "colab": {
          "base_uri": "https://localhost:8080/"
        },
        "id": "6CP7F_nZRDFm",
        "outputId": "b3c3656b-b133-47a2-bf21-2e9fcb72a3d6"
      },
      "execution_count": 3,
      "outputs": [
        {
          "output_type": "stream",
          "name": "stdout",
          "text": [
            " cats-and-dogs.zip\n",
            " CDLA-Permissive-2.0.pdf\n",
            " dap_multiplexer.8eabe52fde40.root.log.INFO.20230317-161412.95\n",
            " dap_multiplexer.INFO\n",
            " debugger_140ek4xfwu\n",
            " initgoogle_syslog_dir.0\n",
            " kernel_manager_proxy.8eabe52fde40.root.log.INFO.20230317-161407.21\n",
            " kernel_manager_proxy.8eabe52fde40.root.log.WARNING.20230317-161413.21\n",
            " kernel_manager_proxy.INFO\n",
            " kernel_manager_proxy.WARNING\n",
            " PetImages\n",
            " pyright-794-3I0AYnasfm0V\n",
            " pyright-794-yYvSAEhBhTP6\n",
            " python-languageserver-cancellation\n",
            "'readme[1].txt'\n"
          ]
        }
      ]
    },
    {
      "cell_type": "code",
      "source": [
        "source_dir = '/tmp/PetImages'\n",
        "source_dir_dogs = os.path.join(source_dir, 'Dog')\n",
        "source_dir_cats = os.path.join(source_dir, 'Cat')\n",
        "\n",
        "# Deletes all non-image files (there are two .db files bundled into the dataset)\n",
        "!find /tmp/PetImages/ -type f ! -name \"*.jpg\" -exec rm {} +\n",
        "\n",
        "print(f\"There are {len(os.listdir(source_dir_dogs))} images of dogs.\")\n",
        "print(f\"There are {len(os.listdir(source_dir_cats))} images of cats.\")"
      ],
      "metadata": {
        "colab": {
          "base_uri": "https://localhost:8080/"
        },
        "id": "4t4dG7fXRiqm",
        "outputId": "a8173bd8-0152-425e-9e23-1217ad6ad21b"
      },
      "execution_count": 4,
      "outputs": [
        {
          "output_type": "stream",
          "name": "stdout",
          "text": [
            "There are 12500 images of dogs.\n",
            "There are 12500 images of cats.\n"
          ]
        }
      ]
    },
    {
      "cell_type": "markdown",
      "source": [
        "## Organise directories in preparation for ImageDataGenerator"
      ],
      "metadata": {
        "id": "oj93THRMSRO6"
      }
    },
    {
      "cell_type": "code",
      "source": [
        "def create_train_and_val_dirs(root_dir):\n",
        "  os.makedirs(os.path.join(root_dir, 'training'))\n",
        "  os.makedirs(os.path.join(root_dir, 'validation'))\n",
        "\n",
        "  os.makedirs(os.path.join(root_dir, 'training', 'cats'))\n",
        "  os.makedirs(os.path.join(root_dir, 'training', 'dogs'))\n",
        "  os.makedirs(os.path.join(root_dir, 'validation', 'cats'))\n",
        "  os.makedirs(os.path.join(root_dir, 'validation', 'dogs'))\n",
        "\n",
        "\n",
        "root_dir = '/tmp/cats-v-dogs'\n",
        "\n",
        "# Empty directory to prevent FileExistsError if running this multiple times\n",
        "if os.path.exists(root_dir):\n",
        "  shutil.rmtree(root_dir)\n",
        "\n",
        "create_train_and_val_dirs(root_dir)"
      ],
      "metadata": {
        "id": "OsQAzPhDSMuA"
      },
      "execution_count": 5,
      "outputs": []
    },
    {
      "cell_type": "code",
      "source": [
        "!ls /tmp/cats-v-dogs\n"
      ],
      "metadata": {
        "colab": {
          "base_uri": "https://localhost:8080/"
        },
        "id": "w-DQ36rNTbT6",
        "outputId": "893a1906-c7a6-4cea-f326-886655f5666a"
      },
      "execution_count": 6,
      "outputs": [
        {
          "output_type": "stream",
          "name": "stdout",
          "text": [
            "training  validation\n"
          ]
        }
      ]
    },
    {
      "cell_type": "code",
      "source": [
        "def split_data(source_dir, training_dir, validation_dir, split_size):\n",
        "  source_imgs = os.listdir(source_dir)\n",
        "\n",
        "  # Remove zero-length images from the source first\n",
        "  zero_imgs = []\n",
        "  for img in source_imgs:\n",
        "    if not os.path.getsize(os.path.join(source_dir, img)):\n",
        "      print(f'{img} is zero length, so ignoring.')\n",
        "      zero_imgs.append(img)\n",
        "  source_imgs = list(set(source_imgs) - set(zero_imgs))\n",
        "\n",
        "  training_size = int(len(source_imgs) * split_size)\n",
        "  training_imgs = random.sample(source_imgs, training_size)\n",
        "\n",
        "  for img in source_imgs:\n",
        "    if img in training_imgs:\n",
        "      destination = os.path.join(training_dir, img)\n",
        "    else:\n",
        "      destination = os.path.join(validation_dir, img)\n",
        "    copyfile(os.path.join(source_dir, img), destination)\n",
        "\n",
        "split_size = 0.9\n",
        "\n",
        "training_dir = os.path.join(root_dir, 'training')\n",
        "validation_dir = os.path.join(root_dir, 'validation')\n",
        "\n",
        "# Create cats directories for training and validation\n",
        "training_cats_dir = os.path.join(root_dir, 'training', 'cats')\n",
        "validation_cats_dir = os.path.join(root_dir, 'validation', 'cats')\n",
        "split_data(source_dir_cats, training_cats_dir, validation_cats_dir, split_size)\n",
        "\n",
        "# Create dogs directories for training and validation\n",
        "training_dogs_dir = os.path.join(root_dir, 'training', 'dogs')\n",
        "validation_dogs_dir = os.path.join(root_dir, 'validation', 'dogs')\n",
        "split_data(source_dir_dogs, training_dogs_dir, validation_dogs_dir, split_size)"
      ],
      "metadata": {
        "colab": {
          "base_uri": "https://localhost:8080/"
        },
        "id": "z94nv8PWTc6O",
        "outputId": "ca796414-367c-4e67-8c89-e2d6f399ab59"
      },
      "execution_count": 7,
      "outputs": [
        {
          "output_type": "stream",
          "name": "stdout",
          "text": [
            "666.jpg is zero length, so ignoring.\n",
            "11702.jpg is zero length, so ignoring.\n"
          ]
        }
      ]
    },
    {
      "cell_type": "markdown",
      "source": [
        "## Creating the model"
      ],
      "metadata": {
        "id": "TGFFlC5KL2mv"
      }
    },
    {
      "cell_type": "code",
      "source": [
        "from tensorflow.keras.layers import Conv2D, Dense, Flatten, MaxPooling2D\n",
        "from tensorflow.keras.models import Sequential\n",
        "from tensorflow.keras.optimizers import RMSprop"
      ],
      "metadata": {
        "id": "MEoJyOyNXErx"
      },
      "execution_count": 8,
      "outputs": []
    },
    {
      "cell_type": "code",
      "source": [
        "def create_model(input_shape=(150, 150, 3),\n",
        "                 loss_function='binary_crossentropy',\n",
        "                 learning_rate=0.001,\n",
        "                 metrics=['accuracy']):\n",
        "    model = Sequential([\n",
        "        Conv2D(32, (3,3), activation='relu', input_shape=input_shape),\n",
        "        MaxPooling2D((2,2)),\n",
        "        Conv2D(64, (3,3), activation='relu'),\n",
        "        MaxPooling2D((2,2)),\n",
        "        Conv2D(128, (3,3), activation='relu'),\n",
        "        MaxPooling2D((2,2)),\n",
        "\n",
        "        Flatten(),\n",
        "        Dense(512, activation='relu'),\n",
        "        Dense(1, activation='sigmoid')\n",
        "    ])\n",
        "\n",
        "    model.compile(loss=loss_function,\n",
        "                  optimizer=RMSprop(learning_rate),\n",
        "                  metrics=metrics)\n",
        "    \n",
        "    return model"
      ],
      "metadata": {
        "id": "mlIf4s5UMSO-"
      },
      "execution_count": 9,
      "outputs": []
    },
    {
      "cell_type": "markdown",
      "source": [
        "## Image Preprocessing with Data Augmentation"
      ],
      "metadata": {
        "id": "pDFjYz0vPVqE"
      }
    },
    {
      "cell_type": "code",
      "source": [
        "train_datagen = ImageDataGenerator(\n",
        "    rescale=(1./255),\n",
        "    rotation_range=40,\n",
        "    width_shift_range=0.2,\n",
        "    height_shift_range=0.2,\n",
        "    shear_range=0.2,\n",
        "    zoom_range=0.2,\n",
        "    horizontal_flip=True,\n",
        "    fill_mode='nearest'\n",
        ")\n",
        "val_datagen = ImageDataGenerator(rescale=(1./255))\n",
        "\n",
        "train_generator = train_datagen.flow_from_directory(\n",
        "    training_dir,\n",
        "    target_size=(150, 150),\n",
        "    batch_size=20,\n",
        "    class_mode='binary'\n",
        ")\n",
        "val_generator = val_datagen.flow_from_directory(\n",
        "    validation_dir,\n",
        "    target_size=(150, 150),\n",
        "    batch_size=20,\n",
        "    class_mode='binary'\n",
        ")"
      ],
      "metadata": {
        "colab": {
          "base_uri": "https://localhost:8080/"
        },
        "id": "Ng3dqWbXPNdf",
        "outputId": "281383b4-9f44-48aa-8f04-6d5a7e956fb8"
      },
      "execution_count": 10,
      "outputs": [
        {
          "output_type": "stream",
          "name": "stdout",
          "text": [
            "Found 22498 images belonging to 2 classes.\n",
            "Found 2500 images belonging to 2 classes.\n"
          ]
        }
      ]
    },
    {
      "cell_type": "markdown",
      "source": [
        "## Training"
      ],
      "metadata": {
        "id": "c7RCXHQOU__f"
      }
    },
    {
      "cell_type": "code",
      "source": [
        "EPOCHS = 16"
      ],
      "metadata": {
        "id": "0GEnWVhjVUbj"
      },
      "execution_count": 11,
      "outputs": []
    },
    {
      "cell_type": "code",
      "source": [
        "model = create_model()\n",
        "\n",
        "history = model.fit(\n",
        "    train_generator,\n",
        "    steps_per_epoch=100,\n",
        "    epochs=EPOCHS,\n",
        "    validation_data=val_generator,\n",
        "    validation_steps=50,\n",
        "    verbose=2\n",
        ")"
      ],
      "metadata": {
        "colab": {
          "base_uri": "https://localhost:8080/"
        },
        "id": "hKk_7jRYRRIW",
        "outputId": "9fcfe16f-6977-4d33-b4b7-c5f3b8b8dcef"
      },
      "execution_count": 12,
      "outputs": [
        {
          "output_type": "stream",
          "name": "stdout",
          "text": [
            "Epoch 1/16\n",
            "100/100 - 29s - loss: 0.7897 - accuracy: 0.5070 - val_loss: 0.6974 - val_accuracy: 0.5230 - 29s/epoch - 295ms/step\n",
            "Epoch 2/16\n",
            "100/100 - 19s - loss: 0.6953 - accuracy: 0.5055 - val_loss: 0.6904 - val_accuracy: 0.5570 - 19s/epoch - 187ms/step\n",
            "Epoch 3/16\n",
            "100/100 - 20s - loss: 0.6899 - accuracy: 0.5485 - val_loss: 0.6673 - val_accuracy: 0.5880 - 20s/epoch - 202ms/step\n",
            "Epoch 4/16\n",
            "100/100 - 20s - loss: 0.6852 - accuracy: 0.5640 - val_loss: 0.6549 - val_accuracy: 0.6410 - 20s/epoch - 203ms/step\n",
            "Epoch 5/16\n",
            "100/100 - 20s - loss: 0.6581 - accuracy: 0.6230 - val_loss: 0.6122 - val_accuracy: 0.6740 - 20s/epoch - 197ms/step\n",
            "Epoch 6/16\n",
            "100/100 - 20s - loss: 0.6397 - accuracy: 0.6340 - val_loss: 0.5897 - val_accuracy: 0.6870 - 20s/epoch - 199ms/step\n",
            "Epoch 7/16\n",
            "100/100 - 20s - loss: 0.6274 - accuracy: 0.6441 - val_loss: 0.6027 - val_accuracy: 0.6330 - 20s/epoch - 201ms/step\n",
            "Epoch 8/16\n",
            "100/100 - 20s - loss: 0.6281 - accuracy: 0.6480 - val_loss: 0.5983 - val_accuracy: 0.6890 - 20s/epoch - 203ms/step\n",
            "Epoch 9/16\n",
            "100/100 - 20s - loss: 0.6486 - accuracy: 0.6235 - val_loss: 0.6373 - val_accuracy: 0.6260 - 20s/epoch - 199ms/step\n",
            "Epoch 10/16\n",
            "100/100 - 20s - loss: 0.6261 - accuracy: 0.6525 - val_loss: 0.6065 - val_accuracy: 0.6610 - 20s/epoch - 199ms/step\n",
            "Epoch 11/16\n",
            "100/100 - 21s - loss: 0.6173 - accuracy: 0.6525 - val_loss: 0.6455 - val_accuracy: 0.6500 - 21s/epoch - 206ms/step\n",
            "Epoch 12/16\n",
            "100/100 - 18s - loss: 0.6379 - accuracy: 0.6430 - val_loss: 0.5643 - val_accuracy: 0.6800 - 18s/epoch - 179ms/step\n",
            "Epoch 13/16\n",
            "100/100 - 18s - loss: 0.6358 - accuracy: 0.6400 - val_loss: 0.5442 - val_accuracy: 0.7230 - 18s/epoch - 185ms/step\n",
            "Epoch 14/16\n",
            "100/100 - 20s - loss: 0.6166 - accuracy: 0.6465 - val_loss: 0.5540 - val_accuracy: 0.7290 - 20s/epoch - 200ms/step\n",
            "Epoch 15/16\n",
            "100/100 - 18s - loss: 0.6016 - accuracy: 0.6792 - val_loss: 0.5549 - val_accuracy: 0.7070 - 18s/epoch - 177ms/step\n",
            "Epoch 16/16\n",
            "100/100 - 18s - loss: 0.6059 - accuracy: 0.6730 - val_loss: 0.5293 - val_accuracy: 0.7400 - 18s/epoch - 182ms/step\n"
          ]
        }
      ]
    },
    {
      "cell_type": "code",
      "source": [
        "def plot_loss_acc(history):\n",
        "  train_acc = history.history['accuracy']\n",
        "  val_acc = history.history['val_accuracy']\n",
        "  loss = history.history['loss']\n",
        "  val_loss = history.history['val_loss']\n",
        "\n",
        "  epochs = range(len(train_acc))\n",
        "\n",
        "  plt.plot(epochs, train_acc, 'bo', label='Training accuracy')\n",
        "  plt.plot(epochs, val_acc, 'b', label='Validation accuracy')\n",
        "  plt.title('Training and validation accuracy')\n",
        "  plt.figure()\n",
        "\n",
        "  plt.plot(epochs, loss, 'bo', label='Training loss')\n",
        "  plt.plot(epochs, val_loss, 'b', label='Validation loss')\n",
        "  plt.title('Training and validation loss')\n",
        "  plt.legend()\n",
        "\n",
        "  plt.show()"
      ],
      "metadata": {
        "id": "JAbKvMALVtEZ"
      },
      "execution_count": 13,
      "outputs": []
    },
    {
      "cell_type": "code",
      "source": [
        "plot_loss_acc(history)"
      ],
      "metadata": {
        "colab": {
          "base_uri": "https://localhost:8080/",
          "height": 545
        },
        "id": "C4sXd76HZcho",
        "outputId": "588c6dbc-af08-460d-90da-7bca8feb5386"
      },
      "execution_count": 14,
      "outputs": [
        {
          "output_type": "display_data",
          "data": {
            "text/plain": [
              "<Figure size 432x288 with 1 Axes>"
            ],
            "image/png": "[encoded data removed]"
          },
          "metadata": {
            "needs_background": "light"
          }
        },
        {
          "output_type": "display_data",
          "data": {
            "text/plain": [
              "<Figure size 432x288 with 1 Axes>"
            ],
            "image/png": "[encoded data removed]"
          },
          "metadata": {
            "needs_background": "light"
          }
        }
      ]
    },
    {
      "cell_type": "code",
      "source": [],
      "metadata": {
        "id": "jOjPyvnBZg1n"
      },
      "execution_count": null,
      "outputs": []
    }
  ]
}