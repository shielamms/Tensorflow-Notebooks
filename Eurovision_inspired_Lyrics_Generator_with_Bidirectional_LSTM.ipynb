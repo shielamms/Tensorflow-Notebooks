{
  "nbformat": 4,
  "nbformat_minor": 0,
  "metadata": {
    "colab": {
      "provenance": [],
      "gpuType": "T4",
      "authorship_tag": "ABX9TyOAj+ZnTiIgYLJRN22/D59H",
      "include_colab_link": true
    },
    "kernelspec": {
      "name": "python3",
      "display_name": "Python 3"
    },
    "language_info": {
      "name": "python"
    },
    "gpuClass": "standard"
  },
  "cells": [
    {
      "cell_type": "markdown",
      "metadata": {
        "id": "view-in-github",
        "colab_type": "text"
      },
      "source": [
        "<a href=\"https://colab.research.google.com/github/shielamms/Tensorflow-Notebooks/blob/main/Eurovision_inspired_Lyrics_Generator_with_Bidirectional_LSTM.ipynb\" target=\"_parent\"><img src=\"https://colab.research.google.com/assets/colab-badge.svg\" alt=\"Open In Colab\"/></a>"
      ]
    },
    {
      "cell_type": "code",
      "execution_count": null,
      "metadata": {
        "id": "T67fyIS3Tua5"
      },
      "outputs": [],
      "source": [
        "import json\n",
        "import numpy as np\n",
        "import pandas as pd\n",
        "import tensorflow as tf"
      ]
    },
    {
      "cell_type": "code",
      "source": [
        "# from google.colab import drive\n",
        "# drive.mount('/content/drive')"
      ],
      "metadata": {
        "id": "Ze_sp1LoojIs"
      },
      "execution_count": null,
      "outputs": []
    },
    {
      "cell_type": "code",
      "source": [
        "data = None\n",
        "\n",
        "with open('eurovision-lyrics-2022.json', 'r') as json_file:\n",
        "  json_s = json_file.read()\n",
        "  data = json.loads(json_s)"
      ],
      "metadata": {
        "id": "llmNgNXuoumi"
      },
      "execution_count": null,
      "outputs": []
    },
    {
      "cell_type": "code",
      "source": [
        "data['0']['Lyrics translation']"
      ],
      "metadata": {
        "colab": {
          "base_uri": "https://localhost:8080/",
          "height": 178
        },
        "id": "72P_5mQfpzKB",
        "outputId": "db0d003d-f329-499e-ca4a-fc883ae7f251"
      },
      "execution_count": null,
      "outputs": [
        {
          "output_type": "execute_result",
          "data": {
            "text/plain": [
              "\"The birds of Holland are so musical\\nThey already learn to twitter in their early youth\\nThe blackbird, the thrush and the nightingale\\nSo they can celebrate spring in Holland It's no wonder, because nowhere the puddles are so blue\\nAs in Holland, sir\\nAs in Holland, madam\\nIt's no wonder, because nowhere the grass is so full of dew Are the girls so sweet, are the girls so faithfull\\nAnd that's why all the birds here are\\nSo musical, So musical, So musical Across the whole world I've heard birds sing\\nTo the south, to the west, to the north\\nIn many faraway countries I've heard birds sing\\nThey sing little songs without words The French birds sing toodledoo\\nJapanese birds sing toodledoo\\nChinese birds sing toodledoo\\nBut nowhere the birds sing so happily and cheerfully\\nAs in Holland in spring in the meadow The birds of Holland are so musical\\nThey already learn to twitter in their early youth\\nThe blackbird, the thrush and the nightingale\\nSo they can celebrate the spring in Holland It's no wonder, because nowhere the puddles are so blue\\n As in Holland, sir\\n As in Holland, madam\\nIt's no wonder, because nowhere the grass is so full of dew Are the girls so sweet, are the girls so faithfull\\nAnd that's why all the birds here are\\nSo musical, So musical, So musical\""
            ],
            "application/vnd.google.colaboratory.intrinsic+json": {
              "type": "string"
            }
          },
          "metadata": {},
          "execution_count": 8
        }
      ]
    },
    {
      "cell_type": "code",
      "source": [
        "all_song_lines = []\n",
        "\n",
        "for i, lyrics in data.items():\n",
        "  en_lyrics = lyrics['Lyrics translation']\n",
        "  lines = [line.lower().strip() for line in en_lyrics.split('\\n') if line]\n",
        "  all_song_lines.extend(lines)"
      ],
      "metadata": {
        "id": "ge4DSqDUpYKK"
      },
      "execution_count": null,
      "outputs": []
    },
    {
      "cell_type": "code",
      "source": [
        "len(all_song_lines)"
      ],
      "metadata": {
        "colab": {
          "base_uri": "https://localhost:8080/"
        },
        "id": "qURlhz5Zrn8f",
        "outputId": "65e68539-4414-4985-a5f8-b47af9808619"
      },
      "execution_count": null,
      "outputs": [
        {
          "output_type": "execute_result",
          "data": {
            "text/plain": [
              "26628"
            ]
          },
          "metadata": {},
          "execution_count": 10
        }
      ]
    },
    {
      "cell_type": "code",
      "source": [
        "all_song_lines[200]"
      ],
      "metadata": {
        "colab": {
          "base_uri": "https://localhost:8080/",
          "height": 35
        },
        "id": "uO6DtAhTqh5M",
        "outputId": "9b16f330-8837-4f0f-c011-523824091b32"
      },
      "execution_count": null,
      "outputs": [
        {
          "output_type": "execute_result",
          "data": {
            "text/plain": [
              "'tomorrow it will be happiness in the sky, among the silver clouds'"
            ],
            "application/vnd.google.colaboratory.intrinsic+json": {
              "type": "string"
            }
          },
          "metadata": {},
          "execution_count": 11
        }
      ]
    },
    {
      "cell_type": "code",
      "source": [
        "# def read_data_file(f):\n",
        "#   song_lines = []\n",
        "\n",
        "#   with open(f, 'r', encoding=\"ISO-8859-1\") as lyrics_file:\n",
        "#     reader = csv.reader(lyrics_file)\n",
        "    \n",
        "#     # skip header\n",
        "#     next(reader)\n",
        "\n",
        "#     for row in reader:\n",
        "#       if not row[4].strip():\n",
        "#         continue\n",
        "#       # Convert all letters to lowercase\n",
        "#       song_lines.append(row[4].strip().lower())\n",
        "\n",
        "#   print(f'Found {len(song_lines)} lines')\n",
        "#   return song_lines\n",
        "\n",
        "# f = 'drive/MyDrive/taylor_swift_lyrics.csv'\n",
        "\n",
        "# data = read_data_file(f)"
      ],
      "metadata": {
        "id": "Cb4ptMBCcikw"
      },
      "execution_count": null,
      "outputs": []
    },
    {
      "cell_type": "markdown",
      "source": [
        "## Text Preprocessing"
      ],
      "metadata": {
        "id": "dWksdNJLkYn2"
      }
    },
    {
      "cell_type": "markdown",
      "source": [
        "### Tokenization and Sequencing"
      ],
      "metadata": {
        "id": "FR1mM0b5Qdz4"
      }
    },
    {
      "cell_type": "code",
      "source": [
        "from tensorflow.keras.preprocessing.text import Tokenizer\n",
        "from tensorflow.keras.preprocessing.sequence import pad_sequences"
      ],
      "metadata": {
        "id": "Sr_n6rd6g3zO"
      },
      "execution_count": null,
      "outputs": []
    },
    {
      "cell_type": "code",
      "source": [
        "tokenizer = Tokenizer()\n",
        "\n",
        "tokenizer.fit_on_texts(all_song_lines)"
      ],
      "metadata": {
        "id": "FLd8n6ZukrX0"
      },
      "execution_count": null,
      "outputs": []
    },
    {
      "cell_type": "code",
      "source": [
        "# Plus 1 for out-of-vocabulary words (OOV)\n",
        "total_words = len(tokenizer.word_index) + 1\n",
        "print(f'Total words: {total_words}')"
      ],
      "metadata": {
        "id": "n-PKsYwHl2h1",
        "colab": {
          "base_uri": "https://localhost:8080/"
        },
        "outputId": "f812d3b2-2944-41d9-b3c9-60a474f4c81a"
      },
      "execution_count": null,
      "outputs": [
        {
          "output_type": "stream",
          "name": "stdout",
          "text": [
            "Total words: 8274\n"
          ]
        }
      ]
    },
    {
      "cell_type": "code",
      "source": [
        "# Sample sequence\n",
        "print(f'Original line: {all_song_lines[200]}')\n",
        "print(f'Tokenized sequence: {tokenizer.texts_to_sequences([all_song_lines[200]])[0]}')"
      ],
      "metadata": {
        "colab": {
          "base_uri": "https://localhost:8080/"
        },
        "id": "OwZoQfwGmM1a",
        "outputId": "74970f12-8ff3-42d4-8371-5d98bce9cc12"
      },
      "execution_count": null,
      "outputs": [
        {
          "output_type": "stream",
          "name": "stdout",
          "text": [
            "Original line: tomorrow it will be happiness in the sky, among the silver clouds\n",
            "Tokenized sequence: [183, 14, 21, 19, 159, 9, 1, 130, 699, 1, 1518, 492]\n"
          ]
        }
      ]
    },
    {
      "cell_type": "code",
      "source": [
        "def generate_ngram_sequences(corpus, tokenizer):\n",
        "  \"\"\"\n",
        "  Args:\n",
        "    corpus : list of strings\n",
        "    tokenizer : tensorflow tokenizer object\n",
        "  \"\"\"\n",
        "  input_sequences = []\n",
        "\n",
        "  for line in corpus:\n",
        "    sequence = tokenizer.texts_to_sequences([line])[0]\n",
        "\n",
        "    for i in range(1, len(sequence)):\n",
        "      input_sequences.append(sequence[:i+1])\n",
        "\n",
        "  return input_sequences"
      ],
      "metadata": {
        "id": "3sFDYBKgmdrP"
      },
      "execution_count": null,
      "outputs": []
    },
    {
      "cell_type": "code",
      "source": [
        "# Sample\n",
        "generate_ngram_sequences([all_song_lines[200]], tokenizer)"
      ],
      "metadata": {
        "colab": {
          "base_uri": "https://localhost:8080/"
        },
        "id": "UbnNLE1lrAUP",
        "outputId": "c2560879-c501-4f6f-a6d1-9c756c991659"
      },
      "execution_count": null,
      "outputs": [
        {
          "output_type": "execute_result",
          "data": {
            "text/plain": [
              "[[183, 14],\n",
              " [183, 14, 21],\n",
              " [183, 14, 21, 19],\n",
              " [183, 14, 21, 19, 159],\n",
              " [183, 14, 21, 19, 159, 9],\n",
              " [183, 14, 21, 19, 159, 9, 1],\n",
              " [183, 14, 21, 19, 159, 9, 1, 130],\n",
              " [183, 14, 21, 19, 159, 9, 1, 130, 699],\n",
              " [183, 14, 21, 19, 159, 9, 1, 130, 699, 1],\n",
              " [183, 14, 21, 19, 159, 9, 1, 130, 699, 1, 1518],\n",
              " [183, 14, 21, 19, 159, 9, 1, 130, 699, 1, 1518, 492]]"
            ]
          },
          "metadata": {},
          "execution_count": 18
        }
      ]
    },
    {
      "cell_type": "code",
      "source": [
        "input_sequences = generate_ngram_sequences(all_song_lines, tokenizer)"
      ],
      "metadata": {
        "id": "ugBO8gV0rFxr"
      },
      "execution_count": null,
      "outputs": []
    },
    {
      "cell_type": "code",
      "source": [
        "print(f'Total number of input sequences: {len(input_sequences)}')"
      ],
      "metadata": {
        "colab": {
          "base_uri": "https://localhost:8080/"
        },
        "id": "xTF2BPR9rnso",
        "outputId": "202407c2-3bd7-423f-acbb-b06e22612711"
      },
      "execution_count": null,
      "outputs": [
        {
          "output_type": "stream",
          "name": "stdout",
          "text": [
            "Total number of input sequences: 172249\n"
          ]
        }
      ]
    },
    {
      "cell_type": "code",
      "source": [
        "# get the longest sequence for use in padding later\n",
        "max_sequence_len = max([len(s) for s in input_sequences])\n",
        "print(f'Longest sequence: {max_sequence_len}')"
      ],
      "metadata": {
        "colab": {
          "base_uri": "https://localhost:8080/"
        },
        "id": "ll3h8lVgrcDy",
        "outputId": "75019189-15f6-4860-c1db-c605d4c052b8"
      },
      "execution_count": null,
      "outputs": [
        {
          "output_type": "stream",
          "name": "stdout",
          "text": [
            "Longest sequence: 202\n"
          ]
        }
      ]
    },
    {
      "cell_type": "code",
      "source": [
        "# Save the tokenizer\n",
        "import json\n",
        "from google.colab import files\n",
        "\n",
        "tokenizer_json = tokenizer.to_json()\n",
        "with open('tokenizer.json', 'w', encoding='utf-8') as f:\n",
        "    f.write(json.dumps(tokenizer_json, ensure_ascii=False))\n",
        "\n",
        "files.download('tokenizer.json')"
      ],
      "metadata": {
        "colab": {
          "base_uri": "https://localhost:8080/",
          "height": 17
        },
        "id": "Cx6BS9_Esdox",
        "outputId": "afae327d-bb61-4d12-8b6c-9b5916f52446"
      },
      "execution_count": null,
      "outputs": [
        {
          "output_type": "display_data",
          "data": {
            "text/plain": [
              "<IPython.core.display.Javascript object>"
            ],
            "application/javascript": [
              "\n",
              "    async function download(id, filename, size) {\n",
              "      if (!google.colab.kernel.accessAllowed) {\n",
              "        return;\n",
              "      }\n",
              "      const div = document.createElement('div');\n",
              "      const label = document.createElement('label');\n",
              "      label.textContent = `Downloading \"${filename}\": `;\n",
              "      div.appendChild(label);\n",
              "      const progress = document.createElement('progress');\n",
              "      progress.max = size;\n",
              "      div.appendChild(progress);\n",
              "      document.body.appendChild(div);\n",
              "\n",
              "      const buffers = [];\n",
              "      let downloaded = 0;\n",
              "\n",
              "      const channel = await google.colab.kernel.comms.open(id);\n",
              "      // Send a message to notify the kernel that we're ready.\n",
              "      channel.send({})\n",
              "\n",
              "      for await (const message of channel.messages) {\n",
              "        // Send a message to notify the kernel that we're ready.\n",
              "        channel.send({})\n",
              "        if (message.buffers) {\n",
              "          for (const buffer of message.buffers) {\n",
              "            buffers.push(buffer);\n",
              "            downloaded += buffer.byteLength;\n",
              "            progress.value = downloaded;\n",
              "          }\n",
              "        }\n",
              "      }\n",
              "      const blob = new Blob(buffers, {type: 'application/binary'});\n",
              "      const a = document.createElement('a');\n",
              "      a.href = window.URL.createObjectURL(blob);\n",
              "      a.download = filename;\n",
              "      div.appendChild(a);\n",
              "      a.click();\n",
              "      div.remove();\n",
              "    }\n",
              "  "
            ]
          },
          "metadata": {}
        },
        {
          "output_type": "display_data",
          "data": {
            "text/plain": [
              "<IPython.core.display.Javascript object>"
            ],
            "application/javascript": [
              "download(\"download_e89971dc-90c3-4898-a321-2f2c263feccd\", \"tokenizer.json\", 920115)"
            ]
          },
          "metadata": {}
        }
      ]
    },
    {
      "cell_type": "markdown",
      "source": [
        "### Padding sequences"
      ],
      "metadata": {
        "id": "Q8jqONqETC4C"
      }
    },
    {
      "cell_type": "code",
      "source": [
        "def pad_seqs(input_sequences, maxlen):\n",
        "  padded_sequences = pad_sequences(input_sequences, padding='pre', maxlen=maxlen)\n",
        "  return padded_sequences"
      ],
      "metadata": {
        "id": "hA0glloSTFZ_"
      },
      "execution_count": null,
      "outputs": []
    },
    {
      "cell_type": "code",
      "source": [
        "# Sample\n",
        "sample_line_sequences = generate_ngram_sequences([all_song_lines[200]], tokenizer)\n",
        "pad_seqs(sample_line_sequences, max_sequence_len)"
      ],
      "metadata": {
        "colab": {
          "base_uri": "https://localhost:8080/"
        },
        "id": "RV3yQhm6TYLn",
        "outputId": "ee024a9c-b26f-4cea-ef86-8091593a7b0c"
      },
      "execution_count": null,
      "outputs": [
        {
          "output_type": "execute_result",
          "data": {
            "text/plain": [
              "array([[   0,    0,    0, ...,    0,  183,   14],\n",
              "       [   0,    0,    0, ...,  183,   14,   21],\n",
              "       [   0,    0,    0, ...,   14,   21,   19],\n",
              "       ...,\n",
              "       [   0,    0,    0, ...,  130,  699,    1],\n",
              "       [   0,    0,    0, ...,  699,    1, 1518],\n",
              "       [   0,    0,    0, ...,    1, 1518,  492]], dtype=int32)"
            ]
          },
          "metadata": {},
          "execution_count": 23
        }
      ]
    },
    {
      "cell_type": "code",
      "source": [
        "padded_sequences = pad_seqs(input_sequences, max_sequence_len)"
      ],
      "metadata": {
        "id": "Lxn4odPDTwpv"
      },
      "execution_count": null,
      "outputs": []
    },
    {
      "cell_type": "markdown",
      "source": [
        "### Splitting to features and labels"
      ],
      "metadata": {
        "id": "flJ7zcoCQZU5"
      }
    },
    {
      "cell_type": "code",
      "source": [
        "from tensorflow.keras.utils import to_categorical"
      ],
      "metadata": {
        "id": "ViT7bbsBSa1x"
      },
      "execution_count": null,
      "outputs": []
    },
    {
      "cell_type": "code",
      "source": [
        "def split_features_labels(input_sequences, total_words):\n",
        "  features = input_sequences[:, :-1]\n",
        "  labels = input_sequences[:, -1]\n",
        "  one_hot_labels = to_categorical(labels, num_classes=total_words)\n",
        "  return features, one_hot_labels"
      ],
      "metadata": {
        "id": "XHzNr9eer0dh"
      },
      "execution_count": null,
      "outputs": []
    },
    {
      "cell_type": "code",
      "source": [
        "# Sample\n",
        "sample_padded_sequences = pad_seqs(sample_line_sequences, max_sequence_len)\n",
        "sample_features, sample_one_hot_labels = split_features_labels(sample_padded_sequences, total_words)"
      ],
      "metadata": {
        "id": "QUCt7DQVSt4X"
      },
      "execution_count": null,
      "outputs": []
    },
    {
      "cell_type": "code",
      "source": [
        "print(f'Shape of sample features: {sample_features.shape}')\n",
        "print(f'Shape of sample labels: {sample_one_hot_labels.shape}')"
      ],
      "metadata": {
        "colab": {
          "base_uri": "https://localhost:8080/"
        },
        "id": "ypH3fnGJS5Xq",
        "outputId": "d9dde269-0d81-443c-c8df-da5f0b411660"
      },
      "execution_count": null,
      "outputs": [
        {
          "output_type": "stream",
          "name": "stdout",
          "text": [
            "Shape of sample features: (11, 201)\n",
            "Shape of sample labels: (11, 8274)\n"
          ]
        }
      ]
    },
    {
      "cell_type": "code",
      "source": [
        "features, labels = split_features_labels(padded_sequences, total_words)\n",
        "\n",
        "print(f'Shape of features: {features.shape}')\n",
        "print(f'Shape of labels: {labels.shape}')"
      ],
      "metadata": {
        "colab": {
          "base_uri": "https://localhost:8080/"
        },
        "id": "c5_bexMyUUJI",
        "outputId": "9d699714-0c84-48a2-f948-deb98ecb2bd2"
      },
      "execution_count": null,
      "outputs": [
        {
          "output_type": "stream",
          "name": "stdout",
          "text": [
            "Shape of features: (172249, 201)\n",
            "Shape of labels: (172249, 8274)\n"
          ]
        }
      ]
    },
    {
      "cell_type": "markdown",
      "source": [
        "## Model creation"
      ],
      "metadata": {
        "id": "DhE4dQF5U8_-"
      }
    },
    {
      "cell_type": "code",
      "source": [
        "model = tf.keras.models.Sequential([\n",
        "    # Input length is -1 because the last token in a sequence is the label\n",
        "    tf.keras.layers.Embedding(total_words,\n",
        "                              100,\n",
        "                              input_length=max_sequence_len-1),\n",
        "    tf.keras.layers.Bidirectional(tf.keras.layers.LSTM(100)),\n",
        "    tf.keras.layers.Dense(total_words, activation='softmax')\n",
        "])\n",
        "\n",
        "model.compile(loss='categorical_crossentropy',\n",
        "              optimizer=tf.keras.optimizers.Adam(learning_rate=0.003),\n",
        "              metrics=['accuracy'])\n"
      ],
      "metadata": {
        "id": "DjVWD2qqUUK6"
      },
      "execution_count": null,
      "outputs": []
    },
    {
      "cell_type": "code",
      "source": [
        "EPOCHS = 50"
      ],
      "metadata": {
        "id": "bzSYrhMTV9Pu"
      },
      "execution_count": null,
      "outputs": []
    },
    {
      "cell_type": "code",
      "source": [
        "history = model.fit(features, labels, epochs=EPOCHS, verbose=1)"
      ],
      "metadata": {
        "colab": {
          "base_uri": "https://localhost:8080/"
        },
        "id": "ySec9LAKUUMt",
        "outputId": "dc733656-a226-4c35-99cd-737768c154f9"
      },
      "execution_count": null,
      "outputs": [
        {
          "output_type": "stream",
          "name": "stdout",
          "text": [
            "Epoch 1/50\n",
            "5383/5383 [==============================] - 137s 24ms/step - loss: 5.5621 - accuracy: 0.1320\n",
            "Epoch 2/50\n",
            "5383/5383 [==============================] - 102s 19ms/step - loss: 4.5113 - accuracy: 0.2200\n",
            "Epoch 3/50\n",
            "5383/5383 [==============================] - 103s 19ms/step - loss: 3.9481 - accuracy: 0.2783\n",
            "Epoch 4/50\n",
            "5383/5383 [==============================] - 103s 19ms/step - loss: 3.5650 - accuracy: 0.3211\n",
            "Epoch 5/50\n",
            "5383/5383 [==============================] - 102s 19ms/step - loss: 3.2893 - accuracy: 0.3578\n",
            "Epoch 6/50\n",
            "5383/5383 [==============================] - 102s 19ms/step - loss: 3.0822 - accuracy: 0.3854\n",
            "Epoch 7/50\n",
            "5383/5383 [==============================] - 103s 19ms/step - loss: 2.9243 - accuracy: 0.4089\n",
            "Epoch 8/50\n",
            "5383/5383 [==============================] - 103s 19ms/step - loss: 2.8038 - accuracy: 0.4281\n",
            "Epoch 9/50\n",
            "5383/5383 [==============================] - 103s 19ms/step - loss: 2.7159 - accuracy: 0.4428\n",
            "Epoch 10/50\n",
            "5383/5383 [==============================] - 102s 19ms/step - loss: 2.6405 - accuracy: 0.4535\n",
            "Epoch 11/50\n",
            "5383/5383 [==============================] - 103s 19ms/step - loss: 2.5792 - accuracy: 0.4637\n",
            "Epoch 12/50\n",
            "5383/5383 [==============================] - 103s 19ms/step - loss: 2.5315 - accuracy: 0.4696\n",
            "Epoch 13/50\n",
            "5383/5383 [==============================] - 103s 19ms/step - loss: 2.4912 - accuracy: 0.4772\n",
            "Epoch 14/50\n",
            "5383/5383 [==============================] - 103s 19ms/step - loss: 2.4616 - accuracy: 0.4813\n",
            "Epoch 15/50\n",
            "5383/5383 [==============================] - 103s 19ms/step - loss: 2.4331 - accuracy: 0.4850\n",
            "Epoch 16/50\n",
            "5383/5383 [==============================] - 103s 19ms/step - loss: 2.4125 - accuracy: 0.4884\n",
            "Epoch 17/50\n",
            "5383/5383 [==============================] - 104s 19ms/step - loss: 2.3906 - accuracy: 0.4914\n",
            "Epoch 18/50\n",
            "5383/5383 [==============================] - 103s 19ms/step - loss: 2.3812 - accuracy: 0.4929\n",
            "Epoch 19/50\n",
            "5383/5383 [==============================] - 103s 19ms/step - loss: 2.3639 - accuracy: 0.4963\n",
            "Epoch 20/50\n",
            "5383/5383 [==============================] - 106s 20ms/step - loss: 2.3539 - accuracy: 0.4980\n",
            "Epoch 21/50\n",
            "5383/5383 [==============================] - 105s 20ms/step - loss: 2.3480 - accuracy: 0.4980\n",
            "Epoch 22/50\n",
            "5383/5383 [==============================] - 104s 19ms/step - loss: 2.3443 - accuracy: 0.4977\n",
            "Epoch 23/50\n",
            "5383/5383 [==============================] - 105s 19ms/step - loss: 2.3370 - accuracy: 0.4986\n",
            "Epoch 24/50\n",
            "5383/5383 [==============================] - 103s 19ms/step - loss: 2.3289 - accuracy: 0.5001\n",
            "Epoch 25/50\n",
            "5383/5383 [==============================] - 103s 19ms/step - loss: 2.3625 - accuracy: 0.4954\n",
            "Epoch 26/50\n",
            "5383/5383 [==============================] - 103s 19ms/step - loss: 2.3493 - accuracy: 0.4955\n",
            "Epoch 27/50\n",
            "5383/5383 [==============================] - 103s 19ms/step - loss: 2.3292 - accuracy: 0.4992\n",
            "Epoch 28/50\n",
            "5383/5383 [==============================] - 102s 19ms/step - loss: 2.3259 - accuracy: 0.4997\n",
            "Epoch 29/50\n",
            "5383/5383 [==============================] - 104s 19ms/step - loss: 2.3155 - accuracy: 0.5003\n",
            "Epoch 30/50\n",
            "5383/5383 [==============================] - 104s 19ms/step - loss: 2.3165 - accuracy: 0.5005\n",
            "Epoch 31/50\n",
            "5383/5383 [==============================] - 104s 19ms/step - loss: 2.3174 - accuracy: 0.4999\n",
            "Epoch 32/50\n",
            "5383/5383 [==============================] - 105s 20ms/step - loss: 2.3126 - accuracy: 0.5015\n",
            "Epoch 33/50\n",
            "5383/5383 [==============================] - 104s 19ms/step - loss: 2.3163 - accuracy: 0.5002\n",
            "Epoch 34/50\n",
            "5383/5383 [==============================] - 103s 19ms/step - loss: 2.3167 - accuracy: 0.4998\n",
            "Epoch 35/50\n",
            "5383/5383 [==============================] - 103s 19ms/step - loss: 2.3188 - accuracy: 0.4989\n",
            "Epoch 36/50\n",
            "5383/5383 [==============================] - 103s 19ms/step - loss: 2.3264 - accuracy: 0.4979\n",
            "Epoch 37/50\n",
            "5383/5383 [==============================] - 102s 19ms/step - loss: 2.3251 - accuracy: 0.4970\n",
            "Epoch 38/50\n",
            "5383/5383 [==============================] - 102s 19ms/step - loss: 2.3273 - accuracy: 0.4989\n",
            "Epoch 39/50\n",
            "5383/5383 [==============================] - 101s 19ms/step - loss: 2.4197 - accuracy: 0.4876\n",
            "Epoch 40/50\n",
            "5383/5383 [==============================] - 101s 19ms/step - loss: 2.4270 - accuracy: 0.4811\n",
            "Epoch 41/50\n",
            "5383/5383 [==============================] - 101s 19ms/step - loss: 2.3788 - accuracy: 0.4878\n",
            "Epoch 42/50\n",
            "5383/5383 [==============================] - 102s 19ms/step - loss: 2.3739 - accuracy: 0.4890\n",
            "Epoch 43/50\n",
            "5383/5383 [==============================] - 101s 19ms/step - loss: 2.3595 - accuracy: 0.4915\n",
            "Epoch 44/50\n",
            "5383/5383 [==============================] - 102s 19ms/step - loss: 2.3703 - accuracy: 0.4900\n",
            "Epoch 45/50\n",
            "5383/5383 [==============================] - 102s 19ms/step - loss: 2.3605 - accuracy: 0.4911\n",
            "Epoch 46/50\n",
            "5383/5383 [==============================] - 101s 19ms/step - loss: 2.3605 - accuracy: 0.4898\n",
            "Epoch 47/50\n",
            "5383/5383 [==============================] - 101s 19ms/step - loss: 2.3809 - accuracy: 0.4870\n",
            "Epoch 48/50\n",
            "5383/5383 [==============================] - 101s 19ms/step - loss: 2.3703 - accuracy: 0.4884\n",
            "Epoch 49/50\n",
            "5383/5383 [==============================] - 102s 19ms/step - loss: 2.3808 - accuracy: 0.4854\n",
            "Epoch 50/50\n",
            "5383/5383 [==============================] - 101s 19ms/step - loss: 2.3830 - accuracy: 0.4846\n"
          ]
        }
      ]
    },
    {
      "cell_type": "code",
      "source": [
        "import matplotlib.pyplot as plt\n",
        "\n",
        "accuracy = history.history['accuracy']\n",
        "loss = history.history['loss']\n",
        "epochs = range(len(accuracy))\n",
        "\n",
        "plt.plot(epochs, accuracy, 'b', label='Training accuracy')\n",
        "plt.title('Training Accuracy')\n",
        "\n",
        "plt.figure()\n",
        "\n",
        "plt.plot(epochs, loss, 'b', label='Training loss')\n",
        "plt.title('Training Loss')\n",
        "plt.show()"
      ],
      "metadata": {
        "colab": {
          "base_uri": "https://localhost:8080/",
          "height": 887
        },
        "id": "d8xn3wZiWFHi",
        "outputId": "b6265009-d36b-4833-9eb5-8df82f5fbdb3"
      },
      "execution_count": null,
      "outputs": [
        {
          "output_type": "display_data",
          "data": {
            "text/plain": [
              "<Figure size 640x480 with 1 Axes>"
            ],
            "image/png": "[encoded data removed]"
          },
          "metadata": {}
        },
        {
          "output_type": "display_data",
          "data": {
            "text/plain": [
              "<Figure size 640x480 with 1 Axes>"
            ],
            "image/png": "[encoded data removed]"
          },
          "metadata": {}
        }
      ]
    },
    {
      "cell_type": "code",
      "source": [
        "def download_history():\n",
        "  import pickle\n",
        "  from google.colab import files\n",
        "\n",
        "  with open('history.pkl', 'wb') as f:\n",
        "    pickle.dump(history.history, f)\n",
        "\n",
        "  files.download('history.pkl')\n",
        "\n",
        "download_history()\n"
      ],
      "metadata": {
        "colab": {
          "base_uri": "https://localhost:8080/",
          "height": 17
        },
        "id": "mFxjJDcCZP5o",
        "outputId": "7a2ac1a5-f1ff-405d-8d21-6d09954c0ad6"
      },
      "execution_count": null,
      "outputs": [
        {
          "output_type": "display_data",
          "data": {
            "text/plain": [
              "<IPython.core.display.Javascript object>"
            ],
            "application/javascript": [
              "\n",
              "    async function download(id, filename, size) {\n",
              "      if (!google.colab.kernel.accessAllowed) {\n",
              "        return;\n",
              "      }\n",
              "      const div = document.createElement('div');\n",
              "      const label = document.createElement('label');\n",
              "      label.textContent = `Downloading \"${filename}\": `;\n",
              "      div.appendChild(label);\n",
              "      const progress = document.createElement('progress');\n",
              "      progress.max = size;\n",
              "      div.appendChild(progress);\n",
              "      document.body.appendChild(div);\n",
              "\n",
              "      const buffers = [];\n",
              "      let downloaded = 0;\n",
              "\n",
              "      const channel = await google.colab.kernel.comms.open(id);\n",
              "      // Send a message to notify the kernel that we're ready.\n",
              "      channel.send({})\n",
              "\n",
              "      for await (const message of channel.messages) {\n",
              "        // Send a message to notify the kernel that we're ready.\n",
              "        channel.send({})\n",
              "        if (message.buffers) {\n",
              "          for (const buffer of message.buffers) {\n",
              "            buffers.push(buffer);\n",
              "            downloaded += buffer.byteLength;\n",
              "            progress.value = downloaded;\n",
              "          }\n",
              "        }\n",
              "      }\n",
              "      const blob = new Blob(buffers, {type: 'application/binary'});\n",
              "      const a = document.createElement('a');\n",
              "      a.href = window.URL.createObjectURL(blob);\n",
              "      a.download = filename;\n",
              "      div.appendChild(a);\n",
              "      a.click();\n",
              "      div.remove();\n",
              "    }\n",
              "  "
            ]
          },
          "metadata": {}
        },
        {
          "output_type": "display_data",
          "data": {
            "text/plain": [
              "<IPython.core.display.Javascript object>"
            ],
            "application/javascript": [
              "download(\"download_61c77222-0bd5-499f-9185-b74ddb61ac33\", \"history.pkl\", 942)"
            ]
          },
          "metadata": {}
        }
      ]
    },
    {
      "cell_type": "markdown",
      "source": [
        "## Testing"
      ],
      "metadata": {
        "id": "rwZP4ek2qMnu"
      }
    },
    {
      "cell_type": "code",
      "source": [
        "seed_text = \"Fly like a\"\n",
        "next_words = 10\n",
        "\n",
        "for _ in range(next_words):\n",
        "  sequence = tokenizer.texts_to_sequences([seed_text])[0]\n",
        "  sequence = pad_sequences([sequence], maxlen=max_sequence_len-1, padding='pre')\n",
        "  prediction = model.predict(sequence, verbose=0)\n",
        "\n",
        "  # Softmax returns a list of probabilities, get the token with the highest\n",
        "  prediction = np.argmax(prediction, axis=-1).item()\n",
        "  output = tokenizer.index_word[prediction]\n",
        "  seed_text += \" \" + output"
      ],
      "metadata": {
        "id": "UNM_abVJqGG9",
        "colab": {
          "base_uri": "https://localhost:8080/",
          "height": 240
        },
        "outputId": "9d43d259-c2ca-4ec9-95ae-bac405789fc1"
      },
      "execution_count": null,
      "outputs": [
        {
          "output_type": "error",
          "ename": "NameError",
          "evalue": "ignored",
          "traceback": [
            "\u001b[0;31m---------------------------------------------------------------------------\u001b[0m",
            "\u001b[0;31mNameError\u001b[0m                                 Traceback (most recent call last)",
            "\u001b[0;32m<ipython-input-25-1a4c32377a72>\u001b[0m in \u001b[0;36m<cell line: 4>\u001b[0;34m()\u001b[0m\n\u001b[1;32m      5\u001b[0m   \u001b[0msequence\u001b[0m \u001b[0;34m=\u001b[0m \u001b[0mtokenizer\u001b[0m\u001b[0;34m.\u001b[0m\u001b[0mtexts_to_sequences\u001b[0m\u001b[0;34m(\u001b[0m\u001b[0;34m[\u001b[0m\u001b[0mseed_text\u001b[0m\u001b[0;34m]\u001b[0m\u001b[0;34m)\u001b[0m\u001b[0;34m[\u001b[0m\u001b[0;36m0\u001b[0m\u001b[0;34m]\u001b[0m\u001b[0;34m\u001b[0m\u001b[0;34m\u001b[0m\u001b[0m\n\u001b[1;32m      6\u001b[0m   \u001b[0msequence\u001b[0m \u001b[0;34m=\u001b[0m \u001b[0mpad_sequences\u001b[0m\u001b[0;34m(\u001b[0m\u001b[0;34m[\u001b[0m\u001b[0msequence\u001b[0m\u001b[0;34m]\u001b[0m\u001b[0;34m,\u001b[0m \u001b[0mmaxlen\u001b[0m\u001b[0;34m=\u001b[0m\u001b[0mmax_sequence_len\u001b[0m\u001b[0;34m-\u001b[0m\u001b[0;36m1\u001b[0m\u001b[0;34m,\u001b[0m \u001b[0mpadding\u001b[0m\u001b[0;34m=\u001b[0m\u001b[0;34m'pre'\u001b[0m\u001b[0;34m)\u001b[0m\u001b[0;34m\u001b[0m\u001b[0;34m\u001b[0m\u001b[0m\n\u001b[0;32m----> 7\u001b[0;31m   \u001b[0mprediction\u001b[0m \u001b[0;34m=\u001b[0m \u001b[0mmodel\u001b[0m\u001b[0;34m.\u001b[0m\u001b[0mpredict\u001b[0m\u001b[0;34m(\u001b[0m\u001b[0msequence\u001b[0m\u001b[0;34m,\u001b[0m \u001b[0mverbose\u001b[0m\u001b[0;34m=\u001b[0m\u001b[0;36m0\u001b[0m\u001b[0;34m)\u001b[0m\u001b[0;34m\u001b[0m\u001b[0;34m\u001b[0m\u001b[0m\n\u001b[0m\u001b[1;32m      8\u001b[0m \u001b[0;34m\u001b[0m\u001b[0m\n\u001b[1;32m      9\u001b[0m   \u001b[0;31m# Softmax returns a list of probabilities, get the token with the highest\u001b[0m\u001b[0;34m\u001b[0m\u001b[0;34m\u001b[0m\u001b[0m\n",
            "\u001b[0;31mNameError\u001b[0m: name 'model' is not defined"
          ]
        }
      ]
    },
    {
      "cell_type": "code",
      "source": [
        "seed_text"
      ],
      "metadata": {
        "colab": {
          "base_uri": "https://localhost:8080/",
          "height": 35
        },
        "id": "RekSVHWMrWjn",
        "outputId": "a20f9c3d-2e1e-4960-a63e-da50ff273fa1"
      },
      "execution_count": null,
      "outputs": [
        {
          "output_type": "execute_result",
          "data": {
            "text/plain": [
              "\"I won't search for you if you want to find the mystery of\""
            ],
            "application/vnd.google.colaboratory.intrinsic+json": {
              "type": "string"
            }
          },
          "metadata": {},
          "execution_count": 48
        }
      ]
    },
    {
      "cell_type": "code",
      "source": [
        "!pip show tensorflow"
      ],
      "metadata": {
        "id": "cOKGdBAwrZW3",
        "colab": {
          "base_uri": "https://localhost:8080/"
        },
        "outputId": "25f78512-b6a8-4004-8953-c3357aed43c0"
      },
      "execution_count": null,
      "outputs": [
        {
          "output_type": "stream",
          "name": "stdout",
          "text": [
            "Name: tensorflow\n",
            "Version: 2.12.0\n",
            "Summary: TensorFlow is an open source machine learning framework for everyone.\n",
            "Home-page: https://www.tensorflow.org/\n",
            "Author: Google Inc.\n",
            "Author-email: packages@tensorflow.org\n",
            "License: Apache 2.0\n",
            "Location: /usr/local/lib/python3.9/dist-packages\n",
            "Requires: absl-py, astunparse, flatbuffers, gast, google-pasta, grpcio, h5py, jax, keras, libclang, numpy, opt-einsum, packaging, protobuf, setuptools, six, tensorboard, tensorflow-estimator, tensorflow-io-gcs-filesystem, termcolor, typing-extensions, wrapt\n",
            "Required-by: dopamine-rl\n"
          ]
        }
      ]
    },
    {
      "cell_type": "code",
      "source": [],
      "metadata": {
        "id": "3d6yBxQpwCoE"
      },
      "execution_count": null,
      "outputs": []
    }
  ]
}