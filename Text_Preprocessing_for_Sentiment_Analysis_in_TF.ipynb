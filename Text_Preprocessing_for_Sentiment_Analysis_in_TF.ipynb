{
  "nbformat": 4,
  "nbformat_minor": 0,
  "metadata": {
    "colab": {
      "provenance": [],
      "authorship_tag": "ABX9TyPBfpOmihzkgn7bBYP9rtyv",
      "include_colab_link": true
    },
    "kernelspec": {
      "name": "python3",
      "display_name": "Python 3"
    },
    "language_info": {
      "name": "python"
    }
  },
  "cells": [
    {
      "cell_type": "markdown",
      "metadata": {
        "id": "view-in-github",
        "colab_type": "text"
      },
      "source": [
        "<a href=\"https://colab.research.google.com/github/shielamms/Tensorflow-Notebooks/blob/main/Text_Preprocessing_for_Sentiment_Analysis_in_TF.ipynb\" target=\"_parent\"><img src=\"https://colab.research.google.com/assets/colab-badge.svg\" alt=\"Open In Colab\"/></a>"
      ]
    },
    {
      "cell_type": "markdown",
      "source": [
        "# Sample text preprocessing"
      ],
      "metadata": {
        "id": "GgU0rP0UXHUm"
      }
    },
    {
      "cell_type": "code",
      "execution_count": 1,
      "metadata": {
        "id": "hGtsnZF1S-QS"
      },
      "outputs": [],
      "source": [
        "from tensorflow.keras.preprocessing.text import Tokenizer\n",
        "from tensorflow.keras.preprocessing.sequence import pad_sequences"
      ]
    },
    {
      "cell_type": "code",
      "source": [
        "sentences = [\n",
        "    'I have a dog',\n",
        "    'She has a wonderful cat!',\n",
        "    'You, do you have a pet?',\n",
        "    'The dog jumps over the moon'\n",
        "]"
      ],
      "metadata": {
        "id": "QnTFP0xvTJ2H"
      },
      "execution_count": 2,
      "outputs": []
    },
    {
      "cell_type": "code",
      "source": [
        "tokenizer = Tokenizer(\n",
        "    num_words=100,\n",
        "    lower=True,\n",
        "    oov_token='<OOV>'\n",
        ")\n",
        "\n",
        "tokenizer.fit_on_texts(sentences)\n",
        "\n",
        "word_index = tokenizer.word_index\n",
        "sequences = tokenizer.texts_to_sequences(sentences)\n",
        "\n",
        "print('Word index:', word_index)\n",
        "print('Sequences:', sequences)"
      ],
      "metadata": {
        "colab": {
          "base_uri": "https://localhost:8080/"
        },
        "id": "TE4cQQsnTN2f",
        "outputId": "e8622e1d-2793-41ff-9e0b-8b3a6ef81e3c"
      },
      "execution_count": 3,
      "outputs": [
        {
          "output_type": "stream",
          "name": "stdout",
          "text": [
            "Word index: {'<OOV>': 1, 'a': 2, 'have': 3, 'dog': 4, 'you': 5, 'the': 6, 'i': 7, 'she': 8, 'has': 9, 'wonderful': 10, 'cat': 11, 'do': 12, 'pet': 13, 'jumps': 14, 'over': 15, 'moon': 16}\n",
            "Sequences: [[7, 3, 2, 4], [8, 9, 2, 10, 11], [5, 12, 5, 3, 2, 13], [6, 4, 14, 15, 6, 16]]\n"
          ]
        }
      ]
    },
    {
      "cell_type": "code",
      "source": [
        "padded_sequences = pad_sequences(sequences, maxlen=5)\n",
        "padded_sequences"
      ],
      "metadata": {
        "colab": {
          "base_uri": "https://localhost:8080/"
        },
        "id": "jQIQ1UD6TXHz",
        "outputId": "97c164c8-d497-4a54-8722-b9a12fdd33b5"
      },
      "execution_count": 4,
      "outputs": [
        {
          "output_type": "execute_result",
          "data": {
            "text/plain": [
              "array([[ 0,  7,  3,  2,  4],\n",
              "       [ 8,  9,  2, 10, 11],\n",
              "       [12,  5,  3,  2, 13],\n",
              "       [ 4, 14, 15,  6, 16]], dtype=int32)"
            ]
          },
          "metadata": {},
          "execution_count": 4
        }
      ]
    },
    {
      "cell_type": "code",
      "source": [
        "tokenizer.texts_to_sequences(['Hello there dog!!'])"
      ],
      "metadata": {
        "colab": {
          "base_uri": "https://localhost:8080/"
        },
        "id": "ShUbAZKNVSWh",
        "outputId": "95b42cb4-2f63-4816-b593-22e6399c231f"
      },
      "execution_count": 5,
      "outputs": [
        {
          "output_type": "execute_result",
          "data": {
            "text/plain": [
              "[[1, 1, 4]]"
            ]
          },
          "metadata": {},
          "execution_count": 5
        }
      ]
    },
    {
      "cell_type": "markdown",
      "source": [
        "# Sarcasm Detection"
      ],
      "metadata": {
        "id": "vbjyYjiMXK_v"
      }
    },
    {
      "cell_type": "code",
      "source": [
        "!wget https://storage.googleapis.com/tensorflow-1-public/course3/sarcasm.json\n"
      ],
      "metadata": {
        "colab": {
          "base_uri": "https://localhost:8080/"
        },
        "id": "TiCVEnwzXNH2",
        "outputId": "db74cbc5-bf57-4779-aa17-a69a7472c86b"
      },
      "execution_count": 6,
      "outputs": [
        {
          "output_type": "stream",
          "name": "stdout",
          "text": [
            "--2023-03-31 12:55:46--  https://storage.googleapis.com/tensorflow-1-public/course3/sarcasm.json\n",
            "Resolving storage.googleapis.com (storage.googleapis.com)... 74.125.203.128, 74.125.204.128, 108.177.97.128, ...\n",
            "Connecting to storage.googleapis.com (storage.googleapis.com)|74.125.203.128|:443... connected.\n",
            "HTTP request sent, awaiting response... 200 OK\n",
            "Length: 5643545 (5.4M) [application/json]\n",
            "Saving to: ‘sarcasm.json’\n",
            "\n",
            "sarcasm.json        100%[===================>]   5.38M  --.-KB/s    in 0.05s   \n",
            "\n",
            "2023-03-31 12:55:46 (113 MB/s) - ‘sarcasm.json’ saved [5643545/5643545]\n",
            "\n"
          ]
        }
      ]
    },
    {
      "cell_type": "code",
      "source": [
        "import json\n",
        "\n",
        "with open('./sarcasm.json', 'r') as file:\n",
        "  data = json.load(file)"
      ],
      "metadata": {
        "id": "xk2pHfybXQAb"
      },
      "execution_count": 16,
      "outputs": []
    },
    {
      "cell_type": "code",
      "source": [
        "data[0]"
      ],
      "metadata": {
        "colab": {
          "base_uri": "https://localhost:8080/"
        },
        "id": "28gqcXafXaXG",
        "outputId": "c5d24006-792a-4828-fff0-be35c0f989ae"
      },
      "execution_count": 17,
      "outputs": [
        {
          "output_type": "execute_result",
          "data": {
            "text/plain": [
              "{'article_link': 'https://www.huffingtonpost.com/entry/versace-black-code_us_5861fbefe4b0de3a08f600d5',\n",
              " 'headline': \"former versace store clerk sues over secret 'black code' for minority shoppers\",\n",
              " 'is_sarcastic': 0}"
            ]
          },
          "metadata": {},
          "execution_count": 17
        }
      ]
    },
    {
      "cell_type": "code",
      "source": [
        "data[1030]"
      ],
      "metadata": {
        "colab": {
          "base_uri": "https://localhost:8080/"
        },
        "id": "8k3jkWWbXatp",
        "outputId": "c3c27540-d823-468b-8417-c5da587faad7"
      },
      "execution_count": 29,
      "outputs": [
        {
          "output_type": "execute_result",
          "data": {
            "text/plain": [
              "{'article_link': 'https://www.theonion.com/4-hours-scrolling-through-facebook-before-bed-referred-1819578025',\n",
              " 'headline': \"4 hours scrolling through facebook before bed referred to as 'winding down'\",\n",
              " 'is_sarcastic': 1}"
            ]
          },
          "metadata": {},
          "execution_count": 29
        }
      ]
    },
    {
      "cell_type": "code",
      "source": [
        "sentences = []\n",
        "labels = []\n",
        "urls = []"
      ],
      "metadata": {
        "id": "dQsJOgH9XlRh"
      },
      "execution_count": 36,
      "outputs": []
    },
    {
      "cell_type": "code",
      "source": [
        "for entry in data:\n",
        "  sentences.append(entry.get('headline'))\n",
        "  labels.append(entry.get('is_sarcastic'))\n",
        "  urls.append(entry.get('article_link'))"
      ],
      "metadata": {
        "id": "dk0mwBX5XxMK"
      },
      "execution_count": 37,
      "outputs": []
    },
    {
      "cell_type": "code",
      "source": [
        "len(sentences)"
      ],
      "metadata": {
        "colab": {
          "base_uri": "https://localhost:8080/"
        },
        "id": "LE8dbRtPxOra",
        "outputId": "a51577e7-397d-4634-ac7d-fb0226435517"
      },
      "execution_count": 38,
      "outputs": [
        {
          "output_type": "execute_result",
          "data": {
            "text/plain": [
              "26709"
            ]
          },
          "metadata": {},
          "execution_count": 38
        }
      ]
    },
    {
      "cell_type": "markdown",
      "source": [
        "### Train-test split"
      ],
      "metadata": {
        "id": "o_jckcTlxGTv"
      }
    },
    {
      "cell_type": "code",
      "source": [
        "train_split = 0.8\n",
        "train_size = int(train_split * len(sentences))\n",
        "\n",
        "train_sentences = sentences[:train_size]\n",
        "train_labels = labels[:train_size]\n",
        "test_sentences = sentences[train_size:]\n",
        "test_labels = labels[train_size:]"
      ],
      "metadata": {
        "id": "3iUDcbZExFcC"
      },
      "execution_count": 39,
      "outputs": []
    },
    {
      "cell_type": "code",
      "source": [
        "print('Train size:', len(train_sentences))\n",
        "print('Test size:', len(test_sentences))"
      ],
      "metadata": {
        "colab": {
          "base_uri": "https://localhost:8080/"
        },
        "id": "GGSsgCxbx0pG",
        "outputId": "5227db5d-bb46-4b8b-da64-e4ed6664afc7"
      },
      "execution_count": 40,
      "outputs": [
        {
          "output_type": "stream",
          "name": "stdout",
          "text": [
            "Train size: 21367\n",
            "Test size: 5342\n"
          ]
        }
      ]
    },
    {
      "cell_type": "code",
      "source": [
        "# Preprocessing\n",
        "import numpy as np\n",
        "from tensorflow.keras.preprocessing.text import Tokenizer\n",
        "from tensorflow.keras.preprocessing.sequence import pad_sequences\n",
        "\n",
        "oov_token = '<OOV>'\n",
        "max_sequence_len = 32\n",
        "padding_type = 'post'\n",
        "truncate_type = 'post'\n",
        "max_vocab = 10000\n",
        "embedding_dims = 16\n",
        "\n",
        "tokenizer = Tokenizer(oov_token=oov_token, num_words=max_vocab)\n",
        "\n",
        "tokenizer.fit_on_texts(train_sentences)\n",
        "word_index = tokenizer.word_index\n",
        "print('Word index size:', len(word_index))\n",
        "\n",
        "train_sequences = tokenizer.texts_to_sequences(train_sentences)\n",
        "train_padded = pad_sequences(train_sequences,\n",
        "                             maxlen=max_sequence_len,\n",
        "                             padding=padding_type,\n",
        "                             truncating=truncate_type)\n",
        "\n",
        "test_sequences = tokenizer.texts_to_sequences(test_sentences)\n",
        "test_padded = pad_sequences(test_sequences,\n",
        "                            maxlen=max_sequence_len,\n",
        "                            padding=padding_type,\n",
        "                            truncating=truncate_type)\n",
        "\n",
        "# convert data as numpy arrays\n",
        "train_labels = np.array(train_labels)\n",
        "test_labels = np.array(test_labels)"
      ],
      "metadata": {
        "colab": {
          "base_uri": "https://localhost:8080/"
        },
        "id": "98FepWrKX-nh",
        "outputId": "f503fc4b-77be-4996-b4d7-b84c0bf48e98"
      },
      "execution_count": 41,
      "outputs": [
        {
          "output_type": "stream",
          "name": "stdout",
          "text": [
            "Word index size: 26507\n"
          ]
        }
      ]
    },
    {
      "cell_type": "code",
      "source": [
        "print('Train size:', len(train_padded))\n",
        "print('Test size:', len(test_padded))"
      ],
      "metadata": {
        "colab": {
          "base_uri": "https://localhost:8080/"
        },
        "id": "-OsROL4fvLfT",
        "outputId": "da4007f8-d650-4b27-cc4f-770046486666"
      },
      "execution_count": 42,
      "outputs": [
        {
          "output_type": "stream",
          "name": "stdout",
          "text": [
            "Train size: 21367\n",
            "Test size: 5342\n"
          ]
        }
      ]
    },
    {
      "cell_type": "markdown",
      "source": [
        "## Training the model"
      ],
      "metadata": {
        "id": "GR-9Vq792R_F"
      }
    },
    {
      "cell_type": "code",
      "source": [
        "import tensorflow as tf\n",
        "\n",
        "gap1d_layer = tf.keras.layers.GlobalAveragePooling1D()\n",
        "\n",
        "# Define sample array\n",
        "sample_array = np.array([[[10,2],[1,3],[1,1]]])\n",
        "\n",
        "# Print shape and contents of sample array\n",
        "print(f'shape of sample_array = {sample_array.shape}')\n",
        "print(f'sample array: {sample_array}')\n",
        "\n",
        "# Pass the sample array to the GAP1D layer\n",
        "output = gap1d_layer(sample_array)\n",
        "\n",
        "# Print shape and contents of the GAP1D output array\n",
        "print(f'output shape of gap1d_layer: {output.shape}')\n",
        "print(f'output array of gap1d_layer: {output.numpy()}')"
      ],
      "metadata": {
        "colab": {
          "base_uri": "https://localhost:8080/"
        },
        "id": "S6zcwYAJvLho",
        "outputId": "f6e3a939-173e-4036-fb5a-bb52eef08318"
      },
      "execution_count": 43,
      "outputs": [
        {
          "output_type": "stream",
          "name": "stdout",
          "text": [
            "shape of sample_array = (1, 3, 2)\n",
            "sample array: [[[10  2]\n",
            "  [ 1  3]\n",
            "  [ 1  1]]]\n",
            "output shape of gap1d_layer: (1, 2)\n",
            "output array of gap1d_layer: [[4 2]]\n"
          ]
        }
      ]
    },
    {
      "cell_type": "code",
      "source": [
        "model = tf.keras.Sequential([\n",
        "    tf.keras.layers.Embedding(max_vocab, embedding_dims, input_length=max_sequence_len),\n",
        "    tf.keras.layers.GlobalAveragePooling1D(),\n",
        "    tf.keras.layers.Dense(24, activation='relu'),\n",
        "    tf.keras.layers.Dense(1, activation='sigmoid')\n",
        "])\n",
        "\n",
        "model.summary()"
      ],
      "metadata": {
        "colab": {
          "base_uri": "https://localhost:8080/"
        },
        "id": "w-Pajh5hvLjt",
        "outputId": "91aac865-7ba2-4df3-82ab-31415f17246d"
      },
      "execution_count": 45,
      "outputs": [
        {
          "output_type": "stream",
          "name": "stdout",
          "text": [
            "Model: \"sequential\"\n",
            "_________________________________________________________________\n",
            " Layer (type)                Output Shape              Param #   \n",
            "=================================================================\n",
            " embedding (Embedding)       (None, 32, 16)            160000    \n",
            "                                                                 \n",
            " global_average_pooling1d_1   (None, 16)               0         \n",
            " (GlobalAveragePooling1D)                                        \n",
            "                                                                 \n",
            " dense (Dense)               (None, 24)                408       \n",
            "                                                                 \n",
            " dense_1 (Dense)             (None, 1)                 25        \n",
            "                                                                 \n",
            "=================================================================\n",
            "Total params: 160,433\n",
            "Trainable params: 160,433\n",
            "Non-trainable params: 0\n",
            "_________________________________________________________________\n"
          ]
        }
      ]
    },
    {
      "cell_type": "code",
      "source": [
        "model.compile(loss='binary_crossentropy', optimizer='adam', metrics=['accuracy'])"
      ],
      "metadata": {
        "id": "xwewJ9gBvLly"
      },
      "execution_count": 46,
      "outputs": []
    },
    {
      "cell_type": "code",
      "source": [
        "EPOCHS = 20\n",
        "\n",
        "history = model.fit(train_padded,\n",
        "                    train_labels,\n",
        "                    epochs=EPOCHS,\n",
        "                    validation_data=(test_padded, test_labels),\n",
        "                    verbose=2)"
      ],
      "metadata": {
        "colab": {
          "base_uri": "https://localhost:8080/"
        },
        "id": "YbW24WK14OPj",
        "outputId": "20ff374a-c581-4de0-9880-cc311fdef30d"
      },
      "execution_count": 47,
      "outputs": [
        {
          "output_type": "stream",
          "name": "stdout",
          "text": [
            "Epoch 1/20\n",
            "668/668 - 4s - loss: 0.5791 - accuracy: 0.6902 - val_loss: 0.4088 - val_accuracy: 0.8122 - 4s/epoch - 6ms/step\n",
            "Epoch 2/20\n",
            "668/668 - 4s - loss: 0.3170 - accuracy: 0.8709 - val_loss: 0.3482 - val_accuracy: 0.8450 - 4s/epoch - 6ms/step\n",
            "Epoch 3/20\n",
            "668/668 - 3s - loss: 0.2399 - accuracy: 0.9064 - val_loss: 0.3410 - val_accuracy: 0.8529 - 3s/epoch - 4ms/step\n",
            "Epoch 4/20\n",
            "668/668 - 3s - loss: 0.1968 - accuracy: 0.9249 - val_loss: 0.3563 - val_accuracy: 0.8516 - 3s/epoch - 4ms/step\n",
            "Epoch 5/20\n",
            "668/668 - 3s - loss: 0.1649 - accuracy: 0.9406 - val_loss: 0.3976 - val_accuracy: 0.8401 - 3s/epoch - 4ms/step\n",
            "Epoch 6/20\n",
            "668/668 - 5s - loss: 0.1427 - accuracy: 0.9490 - val_loss: 0.4184 - val_accuracy: 0.8403 - 5s/epoch - 7ms/step\n",
            "Epoch 7/20\n",
            "668/668 - 3s - loss: 0.1248 - accuracy: 0.9561 - val_loss: 0.4398 - val_accuracy: 0.8424 - 3s/epoch - 5ms/step\n",
            "Epoch 8/20\n",
            "668/668 - 3s - loss: 0.1089 - accuracy: 0.9628 - val_loss: 0.4899 - val_accuracy: 0.8371 - 3s/epoch - 5ms/step\n",
            "Epoch 9/20\n",
            "668/668 - 3s - loss: 0.0958 - accuracy: 0.9676 - val_loss: 0.5144 - val_accuracy: 0.8343 - 3s/epoch - 5ms/step\n",
            "Epoch 10/20\n",
            "668/668 - 4s - loss: 0.0846 - accuracy: 0.9718 - val_loss: 0.5563 - val_accuracy: 0.8317 - 4s/epoch - 5ms/step\n",
            "Epoch 11/20\n",
            "668/668 - 3s - loss: 0.0752 - accuracy: 0.9755 - val_loss: 0.6043 - val_accuracy: 0.8255 - 3s/epoch - 4ms/step\n",
            "Epoch 12/20\n",
            "668/668 - 3s - loss: 0.0662 - accuracy: 0.9795 - val_loss: 0.6551 - val_accuracy: 0.8265 - 3s/epoch - 4ms/step\n",
            "Epoch 13/20\n",
            "668/668 - 3s - loss: 0.0594 - accuracy: 0.9818 - val_loss: 0.7225 - val_accuracy: 0.8209 - 3s/epoch - 4ms/step\n",
            "Epoch 14/20\n",
            "668/668 - 4s - loss: 0.0538 - accuracy: 0.9829 - val_loss: 0.7726 - val_accuracy: 0.8197 - 4s/epoch - 6ms/step\n",
            "Epoch 15/20\n",
            "668/668 - 3s - loss: 0.0474 - accuracy: 0.9852 - val_loss: 0.8076 - val_accuracy: 0.8197 - 3s/epoch - 4ms/step\n",
            "Epoch 16/20\n",
            "668/668 - 3s - loss: 0.0433 - accuracy: 0.9872 - val_loss: 0.8612 - val_accuracy: 0.8141 - 3s/epoch - 4ms/step\n",
            "Epoch 17/20\n",
            "668/668 - 3s - loss: 0.0386 - accuracy: 0.9889 - val_loss: 0.9076 - val_accuracy: 0.8136 - 3s/epoch - 4ms/step\n",
            "Epoch 18/20\n",
            "668/668 - 3s - loss: 0.0333 - accuracy: 0.9908 - val_loss: 0.9655 - val_accuracy: 0.8115 - 3s/epoch - 5ms/step\n",
            "Epoch 19/20\n",
            "668/668 - 3s - loss: 0.0299 - accuracy: 0.9914 - val_loss: 1.0152 - val_accuracy: 0.8083 - 3s/epoch - 5ms/step\n",
            "Epoch 20/20\n",
            "668/668 - 4s - loss: 0.0286 - accuracy: 0.9921 - val_loss: 1.0827 - val_accuracy: 0.8087 - 4s/epoch - 5ms/step\n"
          ]
        }
      ]
    },
    {
      "cell_type": "code",
      "source": [
        "import matplotlib.pyplot as plt\n",
        "\n",
        "# Plot utility\n",
        "def plot_graphs(history, string):\n",
        "  plt.plot(history.history[string])\n",
        "  plt.plot(history.history['val_'+string])\n",
        "  plt.xlabel(\"Epochs\")\n",
        "  plt.ylabel(string)\n",
        "  plt.legend([string, 'val_'+string])\n",
        "  plt.show()\n",
        "  \n",
        "# Plot the accuracy and loss\n",
        "plot_graphs(history, \"accuracy\")\n",
        "plot_graphs(history, \"loss\")"
      ],
      "metadata": {
        "colab": {
          "base_uri": "https://localhost:8080/",
          "height": 881
        },
        "id": "BGODTeeF4fCa",
        "outputId": "d99b4639-be15-4be6-eb71-0e22969a087d"
      },
      "execution_count": 48,
      "outputs": [
        {
          "output_type": "display_data",
          "data": {
            "text/plain": [
              "<Figure size 640x480 with 1 Axes>"
            ],
            "image/png": "[encoded data removed]"
          },
          "metadata": {}
        },
        {
          "output_type": "display_data",
          "data": {
            "text/plain": [
              "<Figure size 640x480 with 1 Axes>"
            ],
            "image/png": "[encoded data removed]"
          },
          "metadata": {}
        }
      ]
    },
    {
      "cell_type": "markdown",
      "source": [
        "## Visualise the word embeddings"
      ],
      "metadata": {
        "id": "WBo1BeHU5A3f"
      }
    },
    {
      "cell_type": "code",
      "source": [
        "# Get the index-word dictionary\n",
        "reverse_word_index = tokenizer.index_word\n",
        "\n",
        "# Get the embedding layer from the model (i.e. first layer)\n",
        "embedding_layer = model.layers[0]\n",
        "\n",
        "# Get the weights of the embedding layer\n",
        "embedding_weights = embedding_layer.get_weights()[0]\n",
        "\n",
        "# Print the shape. Expected is (vocab_size, embedding_dim)\n",
        "print(embedding_weights.shape) "
      ],
      "metadata": {
        "colab": {
          "base_uri": "https://localhost:8080/"
        },
        "id": "jD5KkJZW46nR",
        "outputId": "e48e5a82-138e-4ad9-fc02-02d21a5baefb"
      },
      "execution_count": 49,
      "outputs": [
        {
          "output_type": "stream",
          "name": "stdout",
          "text": [
            "(10000, 16)\n"
          ]
        }
      ]
    },
    {
      "cell_type": "code",
      "source": [
        "import io\n",
        "\n",
        "# Open writeable files\n",
        "out_v = io.open('vecs.tsv', 'w', encoding='utf-8')\n",
        "out_m = io.open('meta.tsv', 'w', encoding='utf-8')\n",
        "\n",
        "# Initialize the loop. Start counting at `1` because `0` is just for the padding\n",
        "for word_num in range(1, max_vocab):\n",
        "\n",
        "  # Get the word associated at the current index\n",
        "  word_name = reverse_word_index[word_num]\n",
        "\n",
        "  # Get the embedding weights associated with the current index\n",
        "  word_embedding = embedding_weights[word_num]\n",
        "\n",
        "  # Write the word name\n",
        "  out_m.write(word_name + \"\\n\")\n",
        "\n",
        "  # Write the word embedding\n",
        "  out_v.write('\\t'.join([str(x) for x in word_embedding]) + \"\\n\")\n",
        "\n",
        "# Close the files\n",
        "out_v.close()\n",
        "out_m.close()"
      ],
      "metadata": {
        "id": "7YG4J67D5ChL"
      },
      "execution_count": 51,
      "outputs": []
    },
    {
      "cell_type": "code",
      "source": [
        "# Import files utilities in Colab\n",
        "try:\n",
        "  from google.colab import files\n",
        "except ImportError:\n",
        "  pass\n",
        "\n",
        "# Download the files\n",
        "else:\n",
        "  files.download('vecs.tsv')\n",
        "  files.download('meta.tsv')"
      ],
      "metadata": {
        "colab": {
          "base_uri": "https://localhost:8080/",
          "height": 17
        },
        "id": "nMaNF2tl5EOM",
        "outputId": "a12aa97e-7331-4939-958c-c27a58791e10"
      },
      "execution_count": 52,
      "outputs": [
        {
          "output_type": "display_data",
          "data": {
            "text/plain": [
              "<IPython.core.display.Javascript object>"
            ],
            "application/javascript": [
              "\n",
              "    async function download(id, filename, size) {\n",
              "      if (!google.colab.kernel.accessAllowed) {\n",
              "        return;\n",
              "      }\n",
              "      const div = document.createElement('div');\n",
              "      const label = document.createElement('label');\n",
              "      label.textContent = `Downloading \"${filename}\": `;\n",
              "      div.appendChild(label);\n",
              "      const progress = document.createElement('progress');\n",
              "      progress.max = size;\n",
              "      div.appendChild(progress);\n",
              "      document.body.appendChild(div);\n",
              "\n",
              "      const buffers = [];\n",
              "      let downloaded = 0;\n",
              "\n",
              "      const channel = await google.colab.kernel.comms.open(id);\n",
              "      // Send a message to notify the kernel that we're ready.\n",
              "      channel.send({})\n",
              "\n",
              "      for await (const message of channel.messages) {\n",
              "        // Send a message to notify the kernel that we're ready.\n",
              "        channel.send({})\n",
              "        if (message.buffers) {\n",
              "          for (const buffer of message.buffers) {\n",
              "            buffers.push(buffer);\n",
              "            downloaded += buffer.byteLength;\n",
              "            progress.value = downloaded;\n",
              "          }\n",
              "        }\n",
              "      }\n",
              "      const blob = new Blob(buffers, {type: 'application/binary'});\n",
              "      const a = document.createElement('a');\n",
              "      a.href = window.URL.createObjectURL(blob);\n",
              "      a.download = filename;\n",
              "      div.appendChild(a);\n",
              "      a.click();\n",
              "      div.remove();\n",
              "    }\n",
              "  "
            ]
          },
          "metadata": {}
        },
        {
          "output_type": "display_data",
          "data": {
            "text/plain": [
              "<IPython.core.display.Javascript object>"
            ],
            "application/javascript": [
              "download(\"download_f01c1598-4c03-4999-9420-8cbd7fc50ece\", \"vecs.tsv\", 1845874)"
            ]
          },
          "metadata": {}
        },
        {
          "output_type": "display_data",
          "data": {
            "text/plain": [
              "<IPython.core.display.Javascript object>"
            ],
            "application/javascript": [
              "\n",
              "    async function download(id, filename, size) {\n",
              "      if (!google.colab.kernel.accessAllowed) {\n",
              "        return;\n",
              "      }\n",
              "      const div = document.createElement('div');\n",
              "      const label = document.createElement('label');\n",
              "      label.textContent = `Downloading \"${filename}\": `;\n",
              "      div.appendChild(label);\n",
              "      const progress = document.createElement('progress');\n",
              "      progress.max = size;\n",
              "      div.appendChild(progress);\n",
              "      document.body.appendChild(div);\n",
              "\n",
              "      const buffers = [];\n",
              "      let downloaded = 0;\n",
              "\n",
              "      const channel = await google.colab.kernel.comms.open(id);\n",
              "      // Send a message to notify the kernel that we're ready.\n",
              "      channel.send({})\n",
              "\n",
              "      for await (const message of channel.messages) {\n",
              "        // Send a message to notify the kernel that we're ready.\n",
              "        channel.send({})\n",
              "        if (message.buffers) {\n",
              "          for (const buffer of message.buffers) {\n",
              "            buffers.push(buffer);\n",
              "            downloaded += buffer.byteLength;\n",
              "            progress.value = downloaded;\n",
              "          }\n",
              "        }\n",
              "      }\n",
              "      const blob = new Blob(buffers, {type: 'application/binary'});\n",
              "      const a = document.createElement('a');\n",
              "      a.href = window.URL.createObjectURL(blob);\n",
              "      a.download = filename;\n",
              "      div.appendChild(a);\n",
              "      a.click();\n",
              "      div.remove();\n",
              "    }\n",
              "  "
            ]
          },
          "metadata": {}
        },
        {
          "output_type": "display_data",
          "data": {
            "text/plain": [
              "<IPython.core.display.Javascript object>"
            ],
            "application/javascript": [
              "download(\"download_851b4303-a3e1-4cb9-973c-84f6e110f8d9\", \"meta.tsv\", 75838)"
            ]
          },
          "metadata": {}
        }
      ]
    },
    {
      "cell_type": "code",
      "source": [],
      "metadata": {
        "id": "9zoMievJ5KoL"
      },
      "execution_count": null,
      "outputs": []
    }
  ]
}