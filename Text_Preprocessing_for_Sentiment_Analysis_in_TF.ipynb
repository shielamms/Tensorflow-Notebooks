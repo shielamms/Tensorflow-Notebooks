{
  "nbformat": 4,
  "nbformat_minor": 0,
  "metadata": {
    "colab": {
      "provenance": [],
      "authorship_tag": "ABX9TyO+/Pjsa9lDfNvbU/X3mfUP",
      "include_colab_link": true
    },
    "kernelspec": {
      "name": "python3",
      "display_name": "Python 3"
    },
    "language_info": {
      "name": "python"
    }
  },
  "cells": [
    {
      "cell_type": "markdown",
      "metadata": {
        "id": "view-in-github",
        "colab_type": "text"
      },
      "source": [
        "<a href=\"https://colab.research.google.com/github/shielamms/Tensorflow-Notebooks/blob/main/Text_Preprocessing_for_Sentiment_Analysis_in_TF.ipynb\" target=\"_parent\"><img src=\"https://colab.research.google.com/assets/colab-badge.svg\" alt=\"Open In Colab\"/></a>"
      ]
    },
    {
      "cell_type": "markdown",
      "source": [
        "# Sample text preprocessing"
      ],
      "metadata": {
        "id": "GgU0rP0UXHUm"
      }
    },
    {
      "cell_type": "code",
      "execution_count": 16,
      "metadata": {
        "id": "hGtsnZF1S-QS"
      },
      "outputs": [],
      "source": [
        "from tensorflow.keras.preprocessing.text import Tokenizer\n",
        "from tensorflow.keras.preprocessing.sequence import pad_sequences"
      ]
    },
    {
      "cell_type": "code",
      "source": [
        "sentences = [\n",
        "    'I have a dog',\n",
        "    'She has a wonderful cat!',\n",
        "    'You, do you have a pet?',\n",
        "    'The dog jumps over the moon'\n",
        "]"
      ],
      "metadata": {
        "id": "QnTFP0xvTJ2H"
      },
      "execution_count": 26,
      "outputs": []
    },
    {
      "cell_type": "code",
      "source": [
        "tokenizer = Tokenizer(\n",
        "    num_words=100,\n",
        "    lower=True,\n",
        "    oov_token='<OOV>'\n",
        ")\n",
        "\n",
        "tokenizer.fit_on_texts(sentences)\n",
        "\n",
        "word_index = tokenizer.word_index\n",
        "sequences = tokenizer.texts_to_sequences(sentences)\n",
        "\n",
        "print('Word index:', word_index)\n",
        "print('Sequences:', sequences)"
      ],
      "metadata": {
        "colab": {
          "base_uri": "https://localhost:8080/"
        },
        "id": "TE4cQQsnTN2f",
        "outputId": "bd399407-dc7c-463c-aff7-345f23ec72a3"
      },
      "execution_count": 27,
      "outputs": [
        {
          "output_type": "stream",
          "name": "stdout",
          "text": [
            "Word index: {'<OOV>': 1, 'a': 2, 'have': 3, 'dog': 4, 'you': 5, 'the': 6, 'i': 7, 'she': 8, 'has': 9, 'wonderful': 10, 'cat': 11, 'do': 12, 'pet': 13, 'jumps': 14, 'over': 15, 'moon': 16}\n",
            "Sequences: [[7, 3, 2, 4], [8, 9, 2, 10, 11], [5, 12, 5, 3, 2, 13], [6, 4, 14, 15, 6, 16]]\n"
          ]
        }
      ]
    },
    {
      "cell_type": "code",
      "source": [
        "padded_sequences = pad_sequences(sequences, maxlen=5)\n",
        "padded_sequences"
      ],
      "metadata": {
        "colab": {
          "base_uri": "https://localhost:8080/"
        },
        "id": "jQIQ1UD6TXHz",
        "outputId": "09dcacbb-4022-4fa0-8990-cfc4db62ab2d"
      },
      "execution_count": 28,
      "outputs": [
        {
          "output_type": "execute_result",
          "data": {
            "text/plain": [
              "array([[ 0,  7,  3,  2,  4],\n",
              "       [ 8,  9,  2, 10, 11],\n",
              "       [12,  5,  3,  2, 13],\n",
              "       [ 4, 14, 15,  6, 16]], dtype=int32)"
            ]
          },
          "metadata": {},
          "execution_count": 28
        }
      ]
    },
    {
      "cell_type": "code",
      "source": [
        "tokenizer.texts_to_sequences(['Hello there dog!!'])"
      ],
      "metadata": {
        "colab": {
          "base_uri": "https://localhost:8080/"
        },
        "id": "ShUbAZKNVSWh",
        "outputId": "7d7a865c-2d5f-4580-f0b9-e2b99c303a7d"
      },
      "execution_count": 31,
      "outputs": [
        {
          "output_type": "execute_result",
          "data": {
            "text/plain": [
              "[[1, 1, 4]]"
            ]
          },
          "metadata": {},
          "execution_count": 31
        }
      ]
    },
    {
      "cell_type": "markdown",
      "source": [
        "# Sarcasm Detection"
      ],
      "metadata": {
        "id": "vbjyYjiMXK_v"
      }
    },
    {
      "cell_type": "code",
      "source": [
        "!wget https://storage.googleapis.com/tensorflow-1-public/course3/sarcasm.json\n"
      ],
      "metadata": {
        "colab": {
          "base_uri": "https://localhost:8080/"
        },
        "id": "TiCVEnwzXNH2",
        "outputId": "bce91e02-2446-4fb1-816e-084d965440c9"
      },
      "execution_count": 1,
      "outputs": [
        {
          "output_type": "stream",
          "name": "stdout",
          "text": [
            "--2023-03-30 12:01:14--  https://storage.googleapis.com/tensorflow-1-public/course3/sarcasm.json\n",
            "Resolving storage.googleapis.com (storage.googleapis.com)... 74.125.196.128, 173.194.210.128, 173.194.214.128, ...\n",
            "Connecting to storage.googleapis.com (storage.googleapis.com)|74.125.196.128|:443... connected.\n",
            "HTTP request sent, awaiting response... 200 OK\n",
            "Length: 5643545 (5.4M) [application/json]\n",
            "Saving to: ‘sarcasm.json.1’\n",
            "\n",
            "\rsarcasm.json.1        0%[                    ]       0  --.-KB/s               \rsarcasm.json.1      100%[===================>]   5.38M  --.-KB/s    in 0.05s   \n",
            "\n",
            "2023-03-30 12:01:15 (115 MB/s) - ‘sarcasm.json.1’ saved [5643545/5643545]\n",
            "\n"
          ]
        }
      ]
    },
    {
      "cell_type": "code",
      "source": [
        "import json\n",
        "\n",
        "with open('./sarcasm.json', 'r') as file:\n",
        "  data = json.load(file)"
      ],
      "metadata": {
        "id": "xk2pHfybXQAb"
      },
      "execution_count": 2,
      "outputs": []
    },
    {
      "cell_type": "code",
      "source": [
        "data[0]"
      ],
      "metadata": {
        "colab": {
          "base_uri": "https://localhost:8080/"
        },
        "id": "28gqcXafXaXG",
        "outputId": "57375f6b-6f52-47ac-f691-527ef7953f31"
      },
      "execution_count": 3,
      "outputs": [
        {
          "output_type": "execute_result",
          "data": {
            "text/plain": [
              "{'article_link': 'https://www.huffingtonpost.com/entry/versace-black-code_us_5861fbefe4b0de3a08f600d5',\n",
              " 'headline': \"former versace store clerk sues over secret 'black code' for minority shoppers\",\n",
              " 'is_sarcastic': 0}"
            ]
          },
          "metadata": {},
          "execution_count": 3
        }
      ]
    },
    {
      "cell_type": "code",
      "source": [
        "data[1030]"
      ],
      "metadata": {
        "colab": {
          "base_uri": "https://localhost:8080/"
        },
        "id": "8k3jkWWbXatp",
        "outputId": "b485a0bb-7432-474a-f158-af62d566a968"
      },
      "execution_count": 4,
      "outputs": [
        {
          "output_type": "execute_result",
          "data": {
            "text/plain": [
              "{'article_link': 'https://www.theonion.com/4-hours-scrolling-through-facebook-before-bed-referred-1819578025',\n",
              " 'headline': \"4 hours scrolling through facebook before bed referred to as 'winding down'\",\n",
              " 'is_sarcastic': 1}"
            ]
          },
          "metadata": {},
          "execution_count": 4
        }
      ]
    },
    {
      "cell_type": "code",
      "source": [
        "sentences = []\n",
        "labels = []\n",
        "urls = []"
      ],
      "metadata": {
        "id": "dQsJOgH9XlRh"
      },
      "execution_count": 19,
      "outputs": []
    },
    {
      "cell_type": "code",
      "source": [
        "for entry in data:\n",
        "  sentences.append(entry.get('headline'))\n",
        "  labels.append(entry.get('is_sarcastic'))\n",
        "  urls.append(entry.get('article_link'))"
      ],
      "metadata": {
        "id": "dk0mwBX5XxMK"
      },
      "execution_count": 20,
      "outputs": []
    },
    {
      "cell_type": "code",
      "source": [
        "\n",
        "# Preprocessing\n",
        "from tensorflow.keras.preprocessing.text import Tokenizer\n",
        "from tensorflow.keras.preprocessing.sequence import pad_sequences\n",
        "\n",
        "tokenizer = Tokenizer(oov_token='<OOV>', lower=False)\n",
        "\n",
        "tokenizer.fit_on_texts(sentences)\n",
        "word_index = tokenizer.word_index\n",
        "print('Word index size:', len(word_index))"
      ],
      "metadata": {
        "colab": {
          "base_uri": "https://localhost:8080/"
        },
        "id": "98FepWrKX-nh",
        "outputId": "fa3009a5-55e9-48ce-d391-2b0436d82817"
      },
      "execution_count": 21,
      "outputs": [
        {
          "output_type": "stream",
          "name": "stdout",
          "text": [
            "Word index size: 29657\n"
          ]
        }
      ]
    },
    {
      "cell_type": "code",
      "source": [
        "sequences = tokenizer.texts_to_sequences(sentences)\n",
        "padded_sequences = pad_sequences(sequences)\n",
        "\n",
        "# sample\n",
        "index = 5\n",
        "print('Original sentence:', sentences[index])\n",
        "print('Tokenized sequence:', sequences[index])\n",
        "print('Padded sequence:', padded_sequences[index])\n"
      ],
      "metadata": {
        "colab": {
          "base_uri": "https://localhost:8080/"
        },
        "id": "ztDWx6dDYKlJ",
        "outputId": "d7b4eb82-b5db-444d-d1ae-83c466342982"
      },
      "execution_count": 23,
      "outputs": [
        {
          "output_type": "stream",
          "name": "stdout",
          "text": [
            "Original sentence: advancing the world's women\n",
            "Tokenized sequence: [10738, 4, 365, 73]\n",
            "Padded sequence: [    0     0     0     0     0     0     0     0     0     0     0     0\n",
            "     0     0     0     0     0     0     0     0     0     0     0     0\n",
            "     0     0     0     0     0     0     0     0     0     0     0     0\n",
            " 10738     4   365    73]\n"
          ]
        }
      ]
    },
    {
      "cell_type": "code",
      "source": [],
      "metadata": {
        "id": "eOZUYXhuahiM"
      },
      "execution_count": null,
      "outputs": []
    }
  ]
}