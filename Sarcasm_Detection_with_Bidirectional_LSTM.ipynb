{
  "nbformat": 4,
  "nbformat_minor": 0,
  "metadata": {
    "colab": {
      "provenance": [],
      "authorship_tag": "ABX9TyNcmDgI6csNRe1zumM3Gcxh",
      "include_colab_link": true
    },
    "kernelspec": {
      "name": "python3",
      "display_name": "Python 3"
    },
    "language_info": {
      "name": "python"
    }
  },
  "cells": [
    {
      "cell_type": "markdown",
      "metadata": {
        "id": "view-in-github",
        "colab_type": "text"
      },
      "source": [
        "<a href=\"https://colab.research.google.com/github/shielamms/Tensorflow-Notebooks/blob/main/Sarcasm_Detection_with_Bidirectional_LSTM.ipynb\" target=\"_parent\"><img src=\"https://colab.research.google.com/assets/colab-badge.svg\" alt=\"Open In Colab\"/></a>"
      ]
    },
    {
      "cell_type": "markdown",
      "source": [
        "## Prepare the dataset"
      ],
      "metadata": {
        "id": "KRCIQbcYxj8m"
      }
    },
    {
      "cell_type": "code",
      "execution_count": 1,
      "metadata": {
        "colab": {
          "base_uri": "https://localhost:8080/"
        },
        "id": "tHYe5eB5tKTJ",
        "outputId": "b564d0de-d58e-49af-8ddd-f842218fb742"
      },
      "outputs": [
        {
          "output_type": "stream",
          "name": "stdout",
          "text": [
            "--2023-04-07 09:25:41--  https://storage.googleapis.com/tensorflow-1-public/course3/sarcasm.json\n",
            "Resolving storage.googleapis.com (storage.googleapis.com)... 142.250.31.128, 142.251.111.128, 142.251.16.128, ...\n",
            "Connecting to storage.googleapis.com (storage.googleapis.com)|142.250.31.128|:443... connected.\n",
            "HTTP request sent, awaiting response... 200 OK\n",
            "Length: 5643545 (5.4M) [application/json]\n",
            "Saving to: ‘sarcasm.json’\n",
            "\n",
            "\rsarcasm.json          0%[                    ]       0  --.-KB/s               \rsarcasm.json        100%[===================>]   5.38M  --.-KB/s    in 0.06s   \n",
            "\n",
            "2023-04-07 09:25:41 (87.0 MB/s) - ‘sarcasm.json’ saved [5643545/5643545]\n",
            "\n"
          ]
        }
      ],
      "source": [
        "!wget https://storage.googleapis.com/tensorflow-1-public/course3/sarcasm.json"
      ]
    },
    {
      "cell_type": "code",
      "source": [
        "import json\n",
        "\n",
        "with open('./sarcasm.json', 'r') as file:\n",
        "  data = json.load(file)"
      ],
      "metadata": {
        "id": "eTu97M_Ry6RE"
      },
      "execution_count": 2,
      "outputs": []
    },
    {
      "cell_type": "code",
      "source": [
        "sentences = []\n",
        "labels = []\n",
        "urls = []\n",
        "\n",
        "for entry in data:\n",
        "  sentences.append(entry.get('headline'))\n",
        "  labels.append(entry.get('is_sarcastic'))\n",
        "  urls.append(entry.get('article_link'))"
      ],
      "metadata": {
        "id": "ErZNnvOFy8xB"
      },
      "execution_count": 3,
      "outputs": []
    },
    {
      "cell_type": "code",
      "source": [
        "train_split = 0.8\n",
        "train_size = int(train_split * len(sentences))\n",
        "\n",
        "train_sentences = sentences[:train_size]\n",
        "train_labels = labels[:train_size]\n",
        "test_sentences = sentences[train_size:]\n",
        "test_labels = labels[train_size:]"
      ],
      "metadata": {
        "id": "M-tk7MQiza-Q"
      },
      "execution_count": 4,
      "outputs": []
    },
    {
      "cell_type": "code",
      "source": [
        "print('Train size:', len(train_sentences))\n",
        "print('Test size:', len(test_sentences))"
      ],
      "metadata": {
        "colab": {
          "base_uri": "https://localhost:8080/"
        },
        "id": "BbK1LU0J5UAI",
        "outputId": "cb0e2d55-bce2-4c29-b982-05765842329b"
      },
      "execution_count": 5,
      "outputs": [
        {
          "output_type": "stream",
          "name": "stdout",
          "text": [
            "Train size: 21367\n",
            "Test size: 5342\n"
          ]
        }
      ]
    },
    {
      "cell_type": "markdown",
      "source": [
        "### Preprocessing"
      ],
      "metadata": {
        "id": "vHpSgXUc5POr"
      }
    },
    {
      "cell_type": "code",
      "source": [
        "import numpy as np\n",
        "from tensorflow.keras.preprocessing.text import Tokenizer\n",
        "from tensorflow.keras.preprocessing.sequence import pad_sequences\n",
        "\n",
        "oov_token = ''\n",
        "max_sequence_len = 32\n",
        "padding_type = 'post'\n",
        "truncate_type = 'post'\n",
        "max_vocab = 10000\n",
        "embedding_dims = 16\n",
        "\n",
        "tokenizer = Tokenizer(oov_token=oov_token, num_words=max_vocab)\n",
        "\n",
        "tokenizer.fit_on_texts(train_sentences)\n",
        "word_index = tokenizer.word_index\n",
        "print('Word index size:', len(word_index))\n",
        "\n",
        "train_sequences = tokenizer.texts_to_sequences(train_sentences)\n",
        "train_padded = pad_sequences(train_sequences,\n",
        "                             maxlen=max_sequence_len,\n",
        "                             padding=padding_type,\n",
        "                             truncating=truncate_type)\n",
        "\n",
        "test_sequences = tokenizer.texts_to_sequences(test_sentences)\n",
        "test_padded = pad_sequences(test_sequences,\n",
        "                            maxlen=max_sequence_len,\n",
        "                            padding=padding_type,\n",
        "                            truncating=truncate_type)\n",
        "\n",
        "# convert data as numpy arrays\n",
        "train_labels = np.array(train_labels)\n",
        "test_labels = np.array(test_labels)\n",
        "     "
      ],
      "metadata": {
        "colab": {
          "base_uri": "https://localhost:8080/"
        },
        "id": "m-e156KN5MKC",
        "outputId": "e49ce58d-1107-4200-c4a4-41efaf2c74f8"
      },
      "execution_count": 6,
      "outputs": [
        {
          "output_type": "stream",
          "name": "stdout",
          "text": [
            "Word index size: 26507\n"
          ]
        }
      ]
    },
    {
      "cell_type": "markdown",
      "source": [
        "## Build model"
      ],
      "metadata": {
        "id": "IAwnh-P05anB"
      }
    },
    {
      "cell_type": "code",
      "source": [
        "import tensorflow as tf"
      ],
      "metadata": {
        "id": "IYTcBxgG5WQu"
      },
      "execution_count": 7,
      "outputs": []
    },
    {
      "cell_type": "code",
      "source": [
        "embedding_dims = 16\n",
        "lstm_dims = 32\n",
        "dense_dims = 24\n",
        "\n",
        "model = tf.keras.Sequential([\n",
        "    tf.keras.layers.Embedding(max_vocab, embedding_dims, input_length=max_sequence_len),\n",
        "    tf.keras.layers.Bidirectional(tf.keras.layers.LSTM(lstm_dims)),\n",
        "    tf.keras.layers.Dense(dense_dims, activation='relu'),\n",
        "    tf.keras.layers.Dense(1, activation='sigmoid')\n",
        "])\n",
        "\n",
        "model.compile(loss='binary_crossentropy', optimizer='adam', metrics=['accuracy'])\n",
        "\n",
        "model.summary()"
      ],
      "metadata": {
        "colab": {
          "base_uri": "https://localhost:8080/"
        },
        "id": "csmS0o9BCR0-",
        "outputId": "a9c525f9-b442-4384-e2af-9e0935dd48a1"
      },
      "execution_count": 8,
      "outputs": [
        {
          "output_type": "stream",
          "name": "stdout",
          "text": [
            "Model: \"sequential\"\n",
            "_________________________________________________________________\n",
            " Layer (type)                Output Shape              Param #   \n",
            "=================================================================\n",
            " embedding (Embedding)       (None, 32, 16)            160000    \n",
            "                                                                 \n",
            " bidirectional (Bidirectiona  (None, 64)               12544     \n",
            " l)                                                              \n",
            "                                                                 \n",
            " dense (Dense)               (None, 24)                1560      \n",
            "                                                                 \n",
            " dense_1 (Dense)             (None, 1)                 25        \n",
            "                                                                 \n",
            "=================================================================\n",
            "Total params: 174,129\n",
            "Trainable params: 174,129\n",
            "Non-trainable params: 0\n",
            "_________________________________________________________________\n"
          ]
        }
      ]
    },
    {
      "cell_type": "markdown",
      "source": [
        "## Training"
      ],
      "metadata": {
        "id": "XQ5AaDNzC-3i"
      }
    },
    {
      "cell_type": "code",
      "source": [
        "EPOCHS = 10\n",
        "\n",
        "history = model.fit(train_padded,\n",
        "                    train_labels,\n",
        "                    epochs=EPOCHS,\n",
        "                    validation_data=(test_padded, test_labels))\n"
      ],
      "metadata": {
        "colab": {
          "base_uri": "https://localhost:8080/"
        },
        "id": "-oFjdix-C9IU",
        "outputId": "746f4ea7-a9a1-4f22-ba1a-714c18355f73"
      },
      "execution_count": 9,
      "outputs": [
        {
          "output_type": "stream",
          "name": "stdout",
          "text": [
            "Epoch 1/10\n",
            "668/668 [==============================] - 30s 36ms/step - loss: 0.4062 - accuracy: 0.8009 - val_loss: 0.3273 - val_accuracy: 0.8570\n",
            "Epoch 2/10\n",
            "668/668 [==============================] - 18s 27ms/step - loss: 0.2229 - accuracy: 0.9086 - val_loss: 0.3393 - val_accuracy: 0.8572\n",
            "Epoch 3/10\n",
            "668/668 [==============================] - 19s 29ms/step - loss: 0.1534 - accuracy: 0.9415 - val_loss: 0.3924 - val_accuracy: 0.8465\n",
            "Epoch 4/10\n",
            "668/668 [==============================] - 19s 28ms/step - loss: 0.1037 - accuracy: 0.9614 - val_loss: 0.4386 - val_accuracy: 0.8422\n",
            "Epoch 5/10\n",
            "668/668 [==============================] - 21s 31ms/step - loss: 0.0677 - accuracy: 0.9761 - val_loss: 0.5433 - val_accuracy: 0.8428\n",
            "Epoch 6/10\n",
            "668/668 [==============================] - 18s 27ms/step - loss: 0.0440 - accuracy: 0.9853 - val_loss: 0.6447 - val_accuracy: 0.8364\n",
            "Epoch 7/10\n",
            "668/668 [==============================] - 20s 29ms/step - loss: 0.0279 - accuracy: 0.9921 - val_loss: 0.8661 - val_accuracy: 0.8338\n",
            "Epoch 8/10\n",
            "668/668 [==============================] - 18s 28ms/step - loss: 0.0188 - accuracy: 0.9941 - val_loss: 0.8457 - val_accuracy: 0.8355\n",
            "Epoch 9/10\n",
            "668/668 [==============================] - 19s 28ms/step - loss: 0.0188 - accuracy: 0.9935 - val_loss: 1.0113 - val_accuracy: 0.8248\n",
            "Epoch 10/10\n",
            "668/668 [==============================] - 19s 28ms/step - loss: 0.0148 - accuracy: 0.9953 - val_loss: 1.0177 - val_accuracy: 0.8298\n"
          ]
        }
      ]
    },
    {
      "cell_type": "code",
      "source": [
        "import matplotlib.pyplot as plt\n",
        "\n",
        "# Plot Utility\n",
        "def plot_graphs(history, string):\n",
        "  plt.plot(history.history[string])\n",
        "  plt.plot(history.history['val_'+string])\n",
        "  plt.xlabel(\"Epochs\")\n",
        "  plt.ylabel(string)\n",
        "  plt.legend([string, 'val_'+string])\n",
        "  plt.show()\n",
        "\n",
        "# Plot the accuracy and loss history\n",
        "plot_graphs(history, 'accuracy')\n",
        "plot_graphs(history, 'loss')"
      ],
      "metadata": {
        "colab": {
          "base_uri": "https://localhost:8080/",
          "height": 881
        },
        "id": "nQkowsOvDPl1",
        "outputId": "dd615ebb-e7f4-46f0-a640-c09f4a288eac"
      },
      "execution_count": 11,
      "outputs": [
        {
          "output_type": "display_data",
          "data": {
            "text/plain": [
              "<Figure size 640x480 with 1 Axes>"
            ],
            "image/png": "[encoded data removed]"
          },
          "metadata": {}
        },
        {
          "output_type": "display_data",
          "data": {
            "text/plain": [
              "<Figure size 640x480 with 1 Axes>"
            ],
            "image/png": "[encoded data removed]"
          },
          "metadata": {}
        }
      ]
    },
    {
      "cell_type": "code",
      "source": [],
      "metadata": {
        "id": "9XtMtjjkEjtE"
      },
      "execution_count": null,
      "outputs": []
    }
  ]
}